{
  "cells": [
    {
      "cell_type": "markdown",
      "metadata": {
        "id": "CqyKl6OBsl9A"
      },
      "source": [
        "<h1 style=\"text-align: center;\">Deep Learning<br><br>Session - 7<br><br>Image Classification with CNN<br><br>Malaria Data<br><h1>"
      ]
    },
    {
      "cell_type": "markdown",
      "metadata": {
        "id": "NgJ-_SBHsl9B"
      },
      "source": [
        "\n",
        "# Dataset Info\n",
        "\n",
        "The dataset contains 2 folders - 'parasitized', 'uninfected'\n",
        "\n",
        "And a total of 27,558 images.\n",
        "\n",
        "This Dataset is taken from the official NIH Website: https://ceb.nlm.nih.gov/repositories/malaria-datasets/ \n",
        "\n",
        "The dataset contains 2 folders - 'parasitized', 'uninfected'\n",
        "And a total of 27,558 images.\n",
        "This Dataset is taken from the official NIH Website: https://ceb.nlm.nih.gov/repositories/malaria-datasets/\n",
        "\n",
        "Malaria remains a major burden on global health, with roughly 200 million cases worldwide and more than 400,000 deaths per year. Besides biomedical research and political efforts, modern information technology is playing a key role in many attempts at fighting the disease.\n",
        "Malaria is caused by protozoan parasites of the genus Plasmodium that are transmitted through the bites of infected female Anopheles mosquitoes and that infect the red blood cells. Most deaths occur among children in Africa, where a child dies almost every minute from malaria, and where malaria is a leading cause of childhood neuro-disability. According to the World Malaria Report 2016,1 an estimated 3.2 billion people in 95 countries and territories are at risk of being infected with malaria and developing disease, and 1.2 billion are at high risk (>1 in 1000 chance of getting malaria in a year).\n",
        "https://www.ncbi.nlm.nih.gov/pmc/articles/PMC5840030/\n"
      ]
    },
    {
      "cell_type": "markdown",
      "metadata": {
        "id": "CMrNns6kobX7"
      },
      "source": [
        "# Import Libraries and Export Images from Zip_File"
      ]
    },
    {
      "cell_type": "code",
      "execution_count": 69,
      "metadata": {
        "id": "ULUCJSJzsl9C"
      },
      "outputs": [],
      "source": [
        "import os  # opration system\n",
        "import numpy as np\n",
        "import pandas as pd\n",
        "import matplotlib.pyplot as plt\n",
        "import seaborn as sns\n",
        "from matplotlib.image import imread\n",
        "\n",
        "#import warnings\n",
        "#warnings.filterwarnings(\"ignore\")\n",
        "#warnings.warn(\"this will not show\")\n",
        "\n",
        "plt.rcParams[\"figure.figsize\"] = (10,6)\n",
        "\n",
        "sns.set_style(\"whitegrid\")\n",
        "pd.set_option('display.float_format', lambda x: '%.3f' % x)\n",
        "\n",
        "# Set it None to display all rows in the dataframe\n",
        "# pd.set_option('display.max_rows', None)\n",
        "\n",
        "# Set it to None to display all columns in the dataframe\n",
        "pd.set_option('display.max_columns', None)"
      ]
    },
    {
      "cell_type": "code",
      "execution_count": 70,
      "metadata": {
        "colab": {
          "base_uri": "https://localhost:8080/"
        },
        "id": "eBfqbn-TgoA4",
        "outputId": "df12e55d-4b22-41a7-93ea-d324fa8dd1f5"
      },
      "outputs": [
        {
          "output_type": "execute_result",
          "data": {
            "text/plain": [
              "[PhysicalDevice(name='/physical_device:GPU:0', device_type='GPU')]"
            ]
          },
          "metadata": {},
          "execution_count": 70
        }
      ],
      "source": [
        "import tensorflow as tf\n",
        "\n",
        "tf.config.list_physical_devices(\"GPU\")"
      ]
    },
    {
      "cell_type": "code",
      "execution_count": 71,
      "metadata": {
        "colab": {
          "base_uri": "https://localhost:8080/"
        },
        "id": "GnnB7Iigsl9E",
        "outputId": "58b1b945-ccc6-45dd-8984-5ff3b4b714d6"
      },
      "outputs": [
        {
          "output_type": "stream",
          "name": "stdout",
          "text": [
            "Drive already mounted at /content/drive; to attempt to forcibly remount, call drive.mount(\"/content/drive\", force_remount=True).\n"
          ]
        }
      ],
      "source": [
        "from google.colab import drive\n",
        "drive.mount('/content/drive')"
      ]
    },
    {
      "cell_type": "markdown",
      "metadata": {
        "id": "YTyh7iXXsl9E"
      },
      "source": [
        "# Recognizing and Understanding Data"
      ]
    },
    {
      "cell_type": "code",
      "execution_count": 72,
      "metadata": {
        "id": "HKxrKtV5H77z"
      },
      "outputs": [],
      "source": [
        "import zipfile\n",
        "\n",
        "# Unzip the file\n",
        "zip_ref = zipfile.ZipFile(\"/content/drive/MyDrive/DL-S7/cell_images.zip\", \"r\")\n",
        "zip_ref.extractall()\n",
        "zip_ref.close() "
      ]
    },
    {
      "cell_type": "code",
      "execution_count": 73,
      "metadata": {
        "id": "BxDyRgOYdiDB"
      },
      "outputs": [],
      "source": [
        "my_data_dir = \"cell_images\""
      ]
    },
    {
      "cell_type": "code",
      "execution_count": 74,
      "metadata": {
        "id": "AQVM6TYWsl9G",
        "colab": {
          "base_uri": "https://localhost:8080/"
        },
        "outputId": "ee3b4f42-ef77-4363-be17-74abb64ab01f"
      },
      "outputs": [
        {
          "output_type": "execute_result",
          "data": {
            "text/plain": [
              "['test', 'train']"
            ]
          },
          "metadata": {},
          "execution_count": 74
        }
      ],
      "source": [
        "# CONFIRM THAT THIS REPORTS BACK 'test', and 'train'\n",
        "os.listdir(my_data_dir) "
      ]
    },
    {
      "cell_type": "code",
      "execution_count": 75,
      "metadata": {
        "id": "Chik3r8Ysl9H"
      },
      "outputs": [],
      "source": [
        "test_path = my_data_dir + '/test/'  # cell_images/test\n",
        "train_path = my_data_dir + '/train/'  # # cell_images/train"
      ]
    },
    {
      "cell_type": "code",
      "execution_count": 76,
      "metadata": {
        "id": "hO_ct-D3sl9H",
        "colab": {
          "base_uri": "https://localhost:8080/"
        },
        "outputId": "4076138d-559c-4da2-b8da-77114c4f5847"
      },
      "outputs": [
        {
          "output_type": "execute_result",
          "data": {
            "text/plain": [
              "['uninfected', 'parasitized']"
            ]
          },
          "metadata": {},
          "execution_count": 76
        }
      ],
      "source": [
        "os.listdir(test_path) # list folders in test folder"
      ]
    },
    {
      "cell_type": "code",
      "execution_count": 77,
      "metadata": {
        "id": "QN6kB1Ezsl9I",
        "colab": {
          "base_uri": "https://localhost:8080/"
        },
        "outputId": "7344e3db-c3ee-4ff5-9b05-18d32bb8d373"
      },
      "outputs": [
        {
          "output_type": "execute_result",
          "data": {
            "text/plain": [
              "['uninfected', 'parasitized']"
            ]
          },
          "metadata": {},
          "execution_count": 77
        }
      ],
      "source": [
        "os.listdir(train_path)  # # list folders in train folder"
      ]
    },
    {
      "cell_type": "code",
      "execution_count": 78,
      "metadata": {
        "id": "eC4GUi8Jp8Rq",
        "colab": {
          "base_uri": "https://localhost:8080/"
        },
        "outputId": "d9d8d599-f2c7-4f89-89b0-ce7ee6d63c8d"
      },
      "outputs": [
        {
          "output_type": "execute_result",
          "data": {
            "text/plain": [
              "['uninfected', 'parasitized']"
            ]
          },
          "metadata": {},
          "execution_count": 78
        }
      ],
      "source": [
        "classes = os.listdir(train_path)\n",
        "classes"
      ]
    },
    {
      "cell_type": "code",
      "execution_count": 79,
      "metadata": {
        "id": "AYrKX5pqe8Ky",
        "colab": {
          "base_uri": "https://localhost:8080/"
        },
        "outputId": "081fbf13-481e-4e2e-c34c-e4993de66921"
      },
      "outputs": [
        {
          "output_type": "stream",
          "name": "stdout",
          "text": [
            "['parasitized' 'uninfected']\n"
          ]
        }
      ],
      "source": [
        "# Alternative method\n",
        "import pathlib\n",
        "\n",
        "data_dir = pathlib.Path(train_path) # turn our training path into a Python path\n",
        "class_names = np.array(sorted([item.name for item in data_dir.glob('*')])) # created a list of class_names from the subdirectories\n",
        "print(class_names)"
      ]
    },
    {
      "cell_type": "code",
      "execution_count": 80,
      "metadata": {
        "id": "17L-4uqGptMS",
        "colab": {
          "base_uri": "https://localhost:8080/"
        },
        "outputId": "99c2bcc6-90e0-48f8-b723-10dc0c8b7437"
      },
      "outputs": [
        {
          "output_type": "execute_result",
          "data": {
            "text/plain": [
              "array(['parasitized', 'uninfected'], dtype='<U11')"
            ]
          },
          "metadata": {},
          "execution_count": 80
        }
      ],
      "source": [
        "class_names"
      ]
    },
    {
      "cell_type": "markdown",
      "metadata": {
        "id": "mFVLtsmLsl9N"
      },
      "source": [
        "**Let's check how many images there are.**"
      ]
    },
    {
      "cell_type": "code",
      "execution_count": 81,
      "metadata": {
        "id": "uYCWoVG1qPNo",
        "colab": {
          "base_uri": "https://localhost:8080/"
        },
        "outputId": "dfb08a6e-87de-4b9a-e322-d879e9dc28af"
      },
      "outputs": [
        {
          "output_type": "execute_result",
          "data": {
            "text/plain": [
              "['C133P94ThinF_IMG_20151004_153930_cell_107.png',\n",
              " 'C82P43ThinF_IMG_20150817_124418_cell_173.png',\n",
              " 'C182P143NThinF_IMG_20151201_172216_cell_129.png',\n",
              " 'C178P139NThinF_IMG_20151201_154254_cell_1.png',\n",
              " 'C91P52ThinF_IMG_20150821_123314_cell_193.png',\n",
              " 'C129P90ThinF_IMG_20151004_133703_cell_99.png',\n",
              " 'C67P28N_ThinF_IMG_20150819_121053_cell_236.png',\n",
              " 'C137P98ThinF_IMG_20151005_163218_cell_75.png',\n",
              " 'C153P114ThinF_IMG_20151115_135911_cell_250.png',\n",
              " 'C182P143NThinF_IMG_20151201_171905_cell_158.png',\n",
              " 'C119P80ThinF_IMG_20151002_123911_cell_143.png',\n",
              " 'C78P39ThinF_IMG_20150606_103413_cell_166.png',\n",
              " 'C84P45ThinF_IMG_20150818_104849_cell_19.png',\n",
              " 'C81P42ThinF_IMG_20150817_120712_cell_165.png',\n",
              " 'C68P29N_ThinF_IMG_20150819_134112_cell_112.png',\n",
              " 'C39P4thinF_original_IMG_20150622_113126_cell_9.png',\n",
              " 'C84P45ThinF_IMG_20150818_101903_cell_4.png',\n",
              " 'C129P90ThinF_IMG_20151004_133538_cell_97.png',\n",
              " 'C101P62ThinF_IMG_20150918_151239_cell_75.png',\n",
              " 'C66P27N_ThinF_IMG_20150818_164702_cell_155.png',\n",
              " 'C180P141NThinF_IMG_20151201_165423_cell_176.png',\n",
              " 'C170P131ThinF_IMG_20151119_120111_cell_235.png',\n",
              " 'C182P143NThinF_IMG_20151201_172842_cell_21.png',\n",
              " 'C168P129ThinF_IMG_20151118_160845_cell_151.png',\n",
              " 'C60P21thinF_IMG_20150804_105034_cell_116.png',\n",
              " 'C188P149ThinF_IMG_20151203_135433_cell_176.png',\n",
              " 'C133P94ThinF_IMG_20151004_155518_cell_102.png',\n",
              " 'C182P143NThinF_IMG_20151201_171905_cell_161.png',\n",
              " 'C129P90ThinF_IMG_20151004_134306_cell_122.png',\n",
              " 'C180P141NThinF_IMG_20151201_163751_cell_155.png',\n",
              " 'C189P150ThinF_IMG_20151203_141308_cell_62.png',\n",
              " 'C176P137NThinF_IMG_20151201_121808_cell_126.png',\n",
              " 'C183P144NThinF_IMG_20151201_223758_cell_139.png',\n",
              " 'C128P89ThinF_IMG_20151004_131231_cell_141.png',\n",
              " 'C51AP12thinF_IMG_20150724_155557_cell_73.png',\n",
              " 'C92P53ThinF_IMG_20150821_151646_cell_205.png',\n",
              " 'C59P20thinF_IMG_20150803_112802_cell_177.png',\n",
              " 'C59P20thinF_IMG_20150803_113809_cell_11.png',\n",
              " 'C66P27N_ThinF_IMG_20150818_163551_cell_186.png',\n",
              " 'C124P85ThinF_IMG_20151002_154502_cell_157.png',\n",
              " 'C158P119ThinF_IMG_20151115_181859_cell_199.png',\n",
              " 'C132P93ThinF_IMG_20151004_151941_cell_1.png',\n",
              " 'C129P90ThinF_IMG_20151004_133329_cell_106.png',\n",
              " 'C59P20thinF_IMG_20150803_112858_cell_174.png',\n",
              " 'C123P84ThinF_IMG_20151002_151143_cell_187.png',\n",
              " 'C84P45ThinF_IMG_20150818_101550_cell_94.png',\n",
              " 'C91P52ThinF_IMG_20150821_124311_cell_39.png',\n",
              " 'C80P41ThinF_IMG_20150817_110834_cell_135.png',\n",
              " 'C188P149ThinF_IMG_20151203_134209_cell_201.png',\n",
              " 'C118P79ThinF_IMG_20151002_110942_cell_19.png',\n",
              " 'C131P92ThinF_IMG_20151004_151001_cell_130.png',\n",
              " 'C82P43ThinF_IMG_20150817_124728_cell_18.png',\n",
              " 'C176P137NThinF_IMG_20151201_120612_cell_15.png',\n",
              " 'C93P54ThinF_IMG_20150821_163640_cell_198.png',\n",
              " 'C97P58ThinF_IMG_20150917_145555_cell_170.png',\n",
              " 'C183P144NThinF_IMG_20151201_222917_cell_148.png',\n",
              " 'C179P140ThinF_IMG_20151127_153350_cell_169.png',\n",
              " 'C132P93ThinF_IMG_20151004_151733_cell_139.png',\n",
              " 'C136P97ThinF_IMG_20151005_140538_cell_100.png',\n",
              " 'C59P20thinF_IMG_20150803_113809_cell_10.png',\n",
              " 'C116P77ThinF_IMG_20150930_171954_cell_103.png',\n",
              " 'C59P20thinF_IMG_20150803_113809_cell_30.png',\n",
              " 'C99P60ThinF_IMG_20150918_140900_cell_115.png',\n",
              " 'C62P23N_ThinF_IMG_20150818_133211_cell_194.png',\n",
              " 'C180P141NThinF_IMG_20151201_163848_cell_143.png',\n",
              " 'C136P97ThinF_IMG_20151005_144449_cell_25.png',\n",
              " 'C103P64ThinF_IMG_20150918_165510_cell_188.png',\n",
              " 'C181P142ThinF_IMG_20151127_155914_cell_171.png',\n",
              " 'C97P58ThinF_IMG_20150917_152437_cell_14.png',\n",
              " 'C182P143NThinF_IMG_20151201_172842_cell_50.png',\n",
              " 'C182P143NThinF_IMG_20151201_172216_cell_148.png',\n",
              " 'C97P58ThinF_IMG_20150917_151903_cell_19.png',\n",
              " 'C182P143NThinF_IMG_20151201_171905_cell_172.png',\n",
              " 'C99P60ThinF_IMG_20150918_141857_cell_28.png',\n",
              " 'C180P141NThinF_IMG_20151201_164714_cell_174.png',\n",
              " 'C184P145ThinF_IMG_20151203_104153_cell_155.png',\n",
              " 'C48P9thinF_IMG_20150721_161055_cell_195.png',\n",
              " 'C132P93ThinF_IMG_20151004_153030_cell_21.png',\n",
              " 'C131P92ThinF_IMG_20151004_150208_cell_137.png',\n",
              " 'C184P145ThinF_IMG_20151203_104153_cell_144.png',\n",
              " 'C68P29N_ThinF_IMG_20150819_134625_cell_18.png',\n",
              " 'C133P94ThinF_IMG_20151004_154351_cell_93.png',\n",
              " 'C118P79ThinF_IMG_20151002_105018_cell_163.png',\n",
              " 'C179P140ThinF_IMG_20151127_153453_cell_173.png',\n",
              " 'C39P4thinF_original_IMG_20150622_114122_cell_8.png',\n",
              " 'C163P124ThinF_IMG_20151116_111925_cell_282.png',\n",
              " 'C119P80ThinF_IMG_20151002_123911_cell_134.png',\n",
              " 'C70P31_ThinF_IMG_20150813_131924_cell_9.png',\n",
              " 'C101P62ThinF_IMG_20150918_155731_cell_77.png',\n",
              " 'C152P113ThinF_IMG_20151115_124557_cell_173.png',\n",
              " 'C93P54ThinF_IMG_20150821_164024_cell_200.png',\n",
              " 'C182P143NThinF_IMG_20151201_172842_cell_25.png',\n",
              " 'C133P94ThinF_IMG_20151004_155518_cell_113.png',\n",
              " 'C63P24N_ThinF_IMG_20150818_143757_cell_172.png',\n",
              " 'C107P68ThinF_IMG_20150924_222630_cell_177.png',\n",
              " 'C186P147NThinF_IMG_20151203_150808_cell_132.png',\n",
              " 'C99P60ThinF_IMG_20150918_141520_cell_101.png',\n",
              " 'C133P94ThinF_IMG_20151004_154512_cell_130.png',\n",
              " 'C128P89ThinF_IMG_20151004_131030_cell_157.png',\n",
              " 'C39P4thinF_original_IMG_20150622_110352_cell_85.png',\n",
              " 'C103P64ThinF_IMG_20150918_164250_cell_172.png',\n",
              " 'C116P77ThinF_IMG_20150930_171739_cell_106.png',\n",
              " 'C60P21thinF_IMG_20150804_104919_cell_135.png',\n",
              " 'C39P4thinF_original_IMG_20150622_105335_cell_9.png',\n",
              " 'C68P29N_ThinF_IMG_20150819_134504_cell_105.png',\n",
              " 'C99P60ThinF_IMG_20150918_141129_cell_101.png',\n",
              " 'C133P94ThinF_IMG_20151004_155144_cell_138.png',\n",
              " 'C126P87ThinF_IMG_20151004_105342_cell_114.png',\n",
              " 'C39P4thinF_original_IMG_20150622_105803_cell_87.png',\n",
              " 'C112P73ThinF_IMG_20150930_131605_cell_183.png',\n",
              " 'C63P24N_ThinF_IMG_20150818_143757_cell_171.png',\n",
              " 'C128P89ThinF_IMG_20151004_130810_cell_150.png',\n",
              " 'C184P145ThinF_IMG_20151203_104030_cell_42.png',\n",
              " 'C68P29N_ThinF_IMG_20150819_134326_cell_116.png',\n",
              " 'C128P89ThinF_IMG_20151004_131753_cell_133.png',\n",
              " 'C60P21thinF_IMG_20150804_113011_cell_9.png',\n",
              " 'C182P143NThinF_IMG_20151201_171905_cell_163.png',\n",
              " 'C180P141NThinF_IMG_20151201_163751_cell_143.png',\n",
              " 'C132P93ThinF_IMG_20151004_152257_cell_120.png',\n",
              " 'C68P29N_ThinF_IMG_20150819_134830_cell_46.png',\n",
              " 'C175P136NThinF_IMG_20151127_141428_cell_213.png',\n",
              " 'C147P108ThinF_IMG_20151115_092605_cell_225.png',\n",
              " 'C110P71ThinF_IMG_20150930_110052_cell_240.png',\n",
              " 'C39P4thinF_original_IMG_20150622_105102_cell_90.png',\n",
              " 'C128P89ThinF_IMG_20151004_131030_cell_162.png',\n",
              " 'C116P77ThinF_IMG_20150930_171448_cell_129.png',\n",
              " 'C99P60ThinF_IMG_20150918_141857_cell_30.png',\n",
              " 'C146P107ThinF_IMG_20151018_134554_cell_254.png',\n",
              " 'C137P98ThinF_IMG_20151005_161859_cell_77.png',\n",
              " 'C70P31_ThinF_IMG_20150813_131924_cell_1.png',\n",
              " 'C149P110ThinF_IMG_20151115_114910_cell_291.png',\n",
              " 'C39P4thinF_original_IMG_20150622_113632_cell_34.png',\n",
              " 'C137P98ThinF_IMG_20151005_162010_cell_78.png',\n",
              " 'C99P60ThinF_IMG_20150918_141314_cell_120.png',\n",
              " 'C71P32_ThinF_IMG_20150813_162554_cell_189.png',\n",
              " 'C48P9thinF_IMG_20150721_160406_cell_231.png',\n",
              " 'C49P10thinF_IMG_20150724_103233_cell_201.png',\n",
              " 'C99P60ThinF_IMG_20150918_141129_cell_129.png',\n",
              " 'C137P98ThinF_IMG_20151005_163218_cell_85.png',\n",
              " 'C112P73ThinF_IMG_20150930_131401_cell_168.png',\n",
              " 'C119P80ThinF_IMG_20151002_123608_cell_146.png',\n",
              " 'C80P41ThinF_IMG_20150817_110957_cell_128.png',\n",
              " 'C132P93ThinF_IMG_20151004_152257_cell_134.png',\n",
              " 'C99P60ThinF_IMG_20150918_141620_cell_27.png',\n",
              " 'C117P78ThinF_IMG_20150930_214941_cell_77.png',\n",
              " 'C39P4thinF_original_IMG_20150622_105554_cell_9.png',\n",
              " 'C137P98ThinF_IMG_20151005_163218_cell_74.png',\n",
              " 'C136P97ThinF_IMG_20151005_141321_cell_107.png',\n",
              " 'C51AP12thinF_IMG_20150724_154330_cell_109.png',\n",
              " 'C68P29N_ThinF_IMG_20150819_133350_cell_189.png',\n",
              " 'C130P91ThinF_IMG_20151004_135449_cell_128.png',\n",
              " 'C158P119ThinF_IMG_20151115_181436_cell_204.png',\n",
              " 'C99P60ThinF_IMG_20150918_142334_cell_45.png',\n",
              " 'C68P29N_ThinF_IMG_20150819_133447_cell_165.png',\n",
              " 'C182P143NThinF_IMG_20151201_172759_cell_30.png',\n",
              " 'C179P140ThinF_IMG_20151127_153521_cell_172.png',\n",
              " 'C90P51ThinF_IMG_20150821_115846_cell_238.png',\n",
              " 'C140P101ThinF_IMG_20151005_205406_cell_162.png',\n",
              " 'C180P141NThinF_IMG_20151201_163702_cell_198.png',\n",
              " 'C132P93ThinF_IMG_20151004_152353_cell_182.png',\n",
              " 'C180P141NThinF_IMG_20151201_170110_cell_9.png',\n",
              " 'C180P141NThinF_IMG_20151201_165659_cell_5.png',\n",
              " 'C184P145ThinF_IMG_20151203_103824_cell_132.png',\n",
              " 'C119P80ThinF_IMG_20151002_124345_cell_161.png',\n",
              " 'C97P58ThinF_IMG_20150917_151903_cell_15.png',\n",
              " 'C184P145ThinF_IMG_20151203_104030_cell_36.png',\n",
              " 'C167P128ReThinF_IMG_20151201_105559_cell_224.png',\n",
              " 'C109P70ThinF_IMG_20150930_103645_cell_174.png',\n",
              " 'C179P140ThinF_IMG_20151127_153453_cell_185.png',\n",
              " 'C99P60ThinF_IMG_20150918_141351_cell_129.png',\n",
              " 'C116P77ThinF_IMG_20150930_171558_cell_98.png',\n",
              " 'C137P98ThinF_IMG_20151005_160918_cell_83.png',\n",
              " 'C182P143NThinF_IMG_20151201_172607_cell_33.png',\n",
              " 'C48P9thinF_IMG_20150721_160944_cell_224.png',\n",
              " 'C60P21thinF_IMG_20150804_104919_cell_141.png',\n",
              " 'C60P21thinF_IMG_20150803_144629_cell_6.png',\n",
              " 'C149P110ThinF_IMG_20151115_114555_cell_305.png',\n",
              " 'C182P143NThinF_IMG_20151201_171950_cell_207.png',\n",
              " 'C182P143NThinF_IMG_20151201_172257_cell_167.png',\n",
              " 'C116P77ThinF_IMG_20150930_171448_cell_117.png',\n",
              " 'C129P90ThinF_IMG_20151004_133703_cell_81.png',\n",
              " 'C132P93ThinF_IMG_20151004_152353_cell_137.png',\n",
              " 'C91P52ThinF_IMG_20150821_123314_cell_191.png',\n",
              " 'C49P10thinF_IMG_20150724_103233_cell_199.png',\n",
              " 'C128P89ThinF_IMG_20151004_131231_cell_153.png',\n",
              " 'C99P60ThinF_IMG_20150918_140900_cell_135.png',\n",
              " 'C132P93ThinF_IMG_20151004_153030_cell_14.png',\n",
              " 'C189P150ThinF_IMG_20151203_141406_cell_101.png',\n",
              " 'C159P120ThinF_IMG_20151115_190421_cell_197.png',\n",
              " 'C180P141NThinF_IMG_20151201_163751_cell_179.png',\n",
              " 'C99P60ThinF_IMG_20150918_141620_cell_59.png',\n",
              " 'C108P69ThinF_IMG_20150924_225511_cell_183.png',\n",
              " 'C156P117ThinF_IMG_20151115_154313_cell_275.png',\n",
              " 'C68P29N_ThinF_IMG_20150819_133447_cell_164.png',\n",
              " 'C133P94ThinF_IMG_20151004_155144_cell_130.png',\n",
              " 'C59P20thinF_IMG_20150803_113809_cell_28.png',\n",
              " 'C179P140ThinF_IMG_20151127_153819_cell_173.png',\n",
              " 'C102P63ThinF_IMG_20150918_162511_cell_169.png',\n",
              " 'C186P147NThinF_IMG_20151203_150222_cell_168.png',\n",
              " 'C116P77ThinF_IMG_20150930_171954_cell_74.png',\n",
              " 'C173P134NThinF_IMG_20151130_125501_cell_255.png',\n",
              " 'C91P52ThinF_IMG_20150821_124311_cell_5.png',\n",
              " 'C184P145ThinF_IMG_20151203_103824_cell_131.png',\n",
              " 'C70P31_ThinF_IMG_20150813_132732_cell_1.png',\n",
              " 'C97P58ThinF_IMG_20150917_151437_cell_159.png',\n",
              " 'C103P64ThinF_IMG_20150918_164553_cell_167.png',\n",
              " 'C140P101ThinF_IMG_20151005_205922_cell_191.png',\n",
              " 'C39P4thinF_original_IMG_20150622_110115_cell_118.png',\n",
              " 'C175P136NThinF_IMG_20151127_141428_cell_228.png',\n",
              " 'C132P93ThinF_IMG_20151004_151941_cell_11.png',\n",
              " 'C182P143NThinF_IMG_20151201_172524_cell_169.png',\n",
              " 'C116P77ThinF_IMG_20150930_172112_cell_100.png',\n",
              " 'C131P92ThinF_IMG_20151004_150208_cell_139.png',\n",
              " 'C123P84ThinF_IMG_20151002_150931_cell_206.png',\n",
              " 'C136P97ThinF_IMG_20151005_142437_cell_132.png',\n",
              " 'C116P77ThinF_IMG_20150930_172112_cell_109.png',\n",
              " 'C60P21thinF_IMG_20150804_105955_cell_126.png',\n",
              " 'C116P77ThinF_IMG_20150930_171954_cell_107.png',\n",
              " 'C120P81ThinF_IMG_20151002_130918_cell_210.png',\n",
              " 'C59P20thinF_IMG_20150803_112802_cell_162.png',\n",
              " 'C45P6ThinF_IMG_20151130_160409_cell_193.png',\n",
              " 'C116P77ThinF_IMG_20150930_171954_cell_91.png',\n",
              " 'C39P4thinF_original_IMG_20150622_110435_cell_111.png',\n",
              " 'C68P29N_ThinF_IMG_20150819_134712_cell_40.png',\n",
              " 'C39P4thinF_original_IMG_20150622_113842_cell_41.png',\n",
              " 'C91P52ThinF_IMG_20150821_123116_cell_178.png',\n",
              " 'C84P45ThinF_IMG_20150818_103817_cell_17.png',\n",
              " 'C99P60ThinF_IMG_20150918_140900_cell_120.png',\n",
              " 'C167P128ReThinF_IMG_20151201_105354_cell_235.png',\n",
              " 'C99P60ThinF_IMG_20150918_141520_cell_94.png',\n",
              " 'C181P142ThinF_IMG_20151127_155722_cell_173.png',\n",
              " 'C119P80ThinF_IMG_20151002_122720_cell_160.png',\n",
              " 'C59P20thinF_IMG_20150803_115303_cell_35.png',\n",
              " 'C180P141NThinF_IMG_20151201_165423_cell_167.png',\n",
              " 'C147P108ThinF_IMG_20151115_092605_cell_224.png',\n",
              " 'C82P43ThinF_IMG_20150817_124010_cell_200.png',\n",
              " 'C128P89ThinF_IMG_20151004_130810_cell_162.png',\n",
              " 'C184P145ThinF_IMG_20151203_104334_cell_13.png',\n",
              " 'C101P62ThinF_IMG_20150918_155731_cell_73.png',\n",
              " 'C116P77ThinF_IMG_20150930_171954_cell_87.png',\n",
              " 'C48P9thinF_IMG_20150721_160406_cell_199.png',\n",
              " 'C72P33_ThinF_IMG_20150815_104307_cell_223.png',\n",
              " 'C116P77ThinF_IMG_20150930_171844_cell_118.png',\n",
              " 'C182P143NThinF_IMG_20151201_171905_cell_137.png',\n",
              " 'C65P26N_ThinF_IMG_20150818_154050_cell_179.png',\n",
              " 'C164P125ThinF_IMG_20151116_114404_cell_176.png',\n",
              " 'C136P97ThinF_IMG_20151005_143743_cell_105.png',\n",
              " 'C181P142ThinF_IMG_20151127_155914_cell_167.png',\n",
              " 'C68P29N_ThinF_IMG_20150819_133236_cell_137.png',\n",
              " 'C107P68ThinF_IMG_20150924_222233_cell_159.png',\n",
              " 'C68P29N_ThinF_IMG_20150819_134712_cell_21.png',\n",
              " 'C144P105ThinF_IMG_20151015_160908_cell_290.png',\n",
              " 'C113P74ThinF_IMG_20150930_134355_cell_170.png',\n",
              " 'C182P143NThinF_IMG_20151201_171950_cell_165.png',\n",
              " 'C136P97ThinF_IMG_20151005_141946_cell_101.png',\n",
              " 'C128P89ThinF_IMG_20151004_131030_cell_161.png',\n",
              " 'C101P62ThinF_IMG_20150918_151149_cell_76.png',\n",
              " 'C180P141NThinF_IMG_20151201_165659_cell_10.png',\n",
              " 'C188P149ThinF_IMG_20151203_134419_cell_197.png',\n",
              " 'C117P78ThinF_IMG_20150930_214511_cell_94.png',\n",
              " 'C137P98ThinF_IMG_20151005_162437_cell_85.png',\n",
              " 'C80P41ThinF_IMG_20150817_110608_cell_147.png',\n",
              " 'C116P77ThinF_IMG_20150930_171844_cell_106.png',\n",
              " 'C132P93ThinF_IMG_20151004_152353_cell_184.png',\n",
              " 'C144P105ThinF_IMG_20151015_155004_cell_301.png',\n",
              " 'C99P60ThinF_IMG_20150918_141857_cell_58.png',\n",
              " 'C189P150ThinF_IMG_20151203_141406_cell_102.png',\n",
              " 'C181P142ThinF_IMG_20151127_160650_cell_184.png',\n",
              " 'C133P94ThinF_IMG_20151004_154158_cell_122.png',\n",
              " 'C67P28N_ThinF_IMG_20150819_132441_cell_168.png',\n",
              " 'C182P143NThinF_IMG_20151201_171950_cell_158.png',\n",
              " 'C129P90ThinF_IMG_20151004_134944_cell_19.png',\n",
              " 'C101P62ThinF_IMG_20150923_170246_cell_64.png',\n",
              " 'C33P1thinF_IMG_20150619_121411a_cell_190.png',\n",
              " 'C116P77ThinF_IMG_20150930_171844_cell_94.png',\n",
              " 'C112P73ThinF_IMG_20150930_131659_cell_193.png',\n",
              " 'C180P141NThinF_IMG_20151201_164714_cell_194.png',\n",
              " 'C68P29N_ThinF_IMG_20150819_133350_cell_153.png',\n",
              " 'C112P73ThinF_IMG_20150930_131605_cell_181.png',\n",
              " 'C91P52ThinF_IMG_20150821_125423_cell_21.png',\n",
              " 'C176P137NThinF_IMG_20151201_122708_cell_129.png',\n",
              " 'C132P93ThinF_IMG_20151004_152257_cell_157.png',\n",
              " 'C91P52ThinF_IMG_20150821_123314_cell_207.png',\n",
              " 'C189P150ThinF_IMG_20151203_140902_cell_112.png',\n",
              " 'C103P64ThinF_IMG_20150918_165510_cell_184.png',\n",
              " 'C91P52ThinF_IMG_20150821_123116_cell_184.png',\n",
              " 'C126P87ThinF_IMG_20151004_105844_cell_149.png',\n",
              " 'C39P4thinF_original_IMG_20150622_105554_cell_19.png',\n",
              " 'C70P31_ThinF_IMG_20150813_131457_cell_3.png',\n",
              " 'C182P143NThinF_IMG_20151201_172607_cell_14.png',\n",
              " 'C184P145ThinF_IMG_20151203_104030_cell_30.png',\n",
              " 'C180P141NThinF_IMG_20151201_170110_cell_3.png',\n",
              " 'C107P68ThinF_IMG_20150924_221909_cell_161.png',\n",
              " 'C46P7ThinF_IMG_20151130_205756_cell_119.png',\n",
              " 'C84P45ThinF_IMG_20150818_101257_cell_80.png',\n",
              " 'C120P81ThinF_IMG_20151002_125443_cell_137.png',\n",
              " 'C110P71ThinF_IMG_20150930_110404_cell_159.png',\n",
              " 'C189P150ThinF_IMG_20151203_141406_cell_100.png',\n",
              " 'C184P145ThinF_IMG_20151203_104153_cell_176.png',\n",
              " 'C118P79ThinF_IMG_20151002_110002_cell_17.png',\n",
              " 'C189P150ThinF_IMG_20151203_141719_cell_59.png',\n",
              " 'C48P9thinF_IMG_20150721_164304_cell_20.png',\n",
              " 'C137P98ThinF_IMG_20151005_163218_cell_87.png',\n",
              " 'C175P136NThinF_IMG_20151127_141325_cell_217.png',\n",
              " 'C133P94ThinF_IMG_20151004_155518_cell_114.png',\n",
              " 'C181P142ThinF_IMG_20151127_155914_cell_170.png',\n",
              " 'C144P105ThinF_IMG_20151015_155004_cell_303.png',\n",
              " 'C179P140ThinF_IMG_20151127_153350_cell_177.png',\n",
              " 'C180P141NThinF_IMG_20151201_170110_cell_29.png',\n",
              " 'C155P116ThinF_IMG_20151115_142526_cell_179.png',\n",
              " 'C46P7ThinF_IMG_20151130_205756_cell_135.png',\n",
              " 'C59P20thinF_IMG_20150803_111244_cell_183.png',\n",
              " 'C136P97ThinF_IMG_20151005_141803_cell_127.png',\n",
              " 'C39P4thinF_original_IMG_20150622_111206_cell_92.png',\n",
              " 'C174P135NThinF_IMG_20151127_135435_cell_213.png',\n",
              " 'C132P93ThinF_IMG_20151004_151941_cell_41.png',\n",
              " 'C46P7ThinF_IMG_20151130_205558_cell_151.png',\n",
              " 'C189P150ThinF_IMG_20151203_141406_cell_90.png',\n",
              " 'C132P93ThinF_IMG_20151004_152505_cell_127.png',\n",
              " 'C59P20thinF_IMG_20150803_113139_cell_28.png',\n",
              " 'C168P129ThinF_IMG_20151118_154126_cell_157.png',\n",
              " 'C182P143NThinF_IMG_20151201_172524_cell_194.png',\n",
              " 'C118P79ThinF_IMG_20151002_105346_cell_160.png',\n",
              " 'C46P7ThinF_IMG_20151130_210309_cell_161.png',\n",
              " 'C136P97ThinF_IMG_20151005_144449_cell_22.png',\n",
              " 'C60P21thinF_IMG_20150804_105034_cell_110.png',\n",
              " 'C48P9thinF_IMG_20150721_161055_cell_202.png',\n",
              " 'C68P29N_ThinF_IMG_20150819_134326_cell_141.png',\n",
              " 'C70P31_ThinF_IMG_20150813_131330_cell_83.png',\n",
              " 'C99P60ThinF_IMG_20150918_141351_cell_106.png',\n",
              " 'C132P93ThinF_IMG_20151004_152642_cell_21.png',\n",
              " 'C118P79ThinF_IMG_20151002_110212_cell_1.png',\n",
              " 'C132P93ThinF_IMG_20151004_152045_cell_143.png',\n",
              " 'C80P41ThinF_IMG_20150817_112329_cell_22.png',\n",
              " 'C111P72ThinF_IMG_20150930_112827_cell_178.png',\n",
              " 'C46P7ThinF_IMG_20151130_205719_cell_135.png',\n",
              " 'C174P135NThinF_IMG_20151127_135640_cell_189.png',\n",
              " 'C59P20thinF_IMG_20150803_112858_cell_182.png',\n",
              " 'C167P128ReThinF_IMG_20151201_105559_cell_230.png',\n",
              " 'C118P79ThinF_IMG_20151002_110942_cell_14.png',\n",
              " 'C97P58ThinF_IMG_20150917_151437_cell_158.png',\n",
              " 'C59P20thinF_IMG_20150803_115303_cell_7.png',\n",
              " 'C182P143NThinF_IMG_20151201_171905_cell_145.png',\n",
              " 'C68P29N_ThinF_IMG_20150819_133447_cell_159.png',\n",
              " 'C100P61ThinF_IMG_20150918_145422_cell_169.png',\n",
              " 'C68P29N_ThinF_IMG_20150819_134504_cell_112.png',\n",
              " 'C182P143NThinF_IMG_20151201_172057_cell_171.png',\n",
              " 'C118P79ThinF_IMG_20151002_105018_cell_140.png',\n",
              " 'C46P7ThinF_IMG_20151130_205828_cell_140.png',\n",
              " 'C81P42ThinF_IMG_20150817_115942_cell_216.png',\n",
              " 'C167P128ReThinF_IMG_20151201_105707_cell_237.png',\n",
              " 'C144P105ThinF_IMG_20151015_155004_cell_307.png',\n",
              " 'C99P60ThinF_IMG_20150918_141001_cell_137.png',\n",
              " 'C48P9thinF_IMG_20150721_160944_cell_209.png',\n",
              " 'C101P62ThinF_IMG_20150923_170344_cell_75.png',\n",
              " 'C70P31_ThinF_IMG_20150813_131924_cell_2.png',\n",
              " 'C166P127ThinF_IMG_20151117_194932_cell_225.png',\n",
              " 'C105P66ThinF_IMG_20150924_100655_cell_124.png',\n",
              " 'C134P95ThinF_IMG_20151005_121952_cell_120.png',\n",
              " 'C80P41ThinF_IMG_20150817_111943_cell_5.png',\n",
              " 'C39P4thinF_original_IMG_20150622_113632_cell_21.png',\n",
              " 'C101P62ThinF_IMG_20150923_170246_cell_79.png',\n",
              " 'C97P58ThinF_IMG_20150917_152437_cell_8.png',\n",
              " 'C132P93ThinF_IMG_20151004_152353_cell_159.png',\n",
              " 'C149P110ThinF_IMG_20151115_114729_cell_271.png',\n",
              " 'C129P90ThinF_IMG_20151004_133421_cell_101.png',\n",
              " 'C84P45ThinF_IMG_20150818_102654_cell_84.png',\n",
              " 'C180P141NThinF_IMG_20151201_164714_cell_190.png',\n",
              " 'C137P98ThinF_IMG_20151005_163251_cell_57.png',\n",
              " 'C184P145ThinF_IMG_20151203_104153_cell_142.png',\n",
              " 'C59P20thinF_IMG_20150803_111244_cell_184.png',\n",
              " 'C93P54ThinF_IMG_20150821_163640_cell_208.png',\n",
              " 'C80P41ThinF_IMG_20150817_110957_cell_140.png',\n",
              " 'C89P50ThinF_IMG_20150820_162153_cell_191.png',\n",
              " 'C68P29N_ThinF_IMG_20150819_133236_cell_189.png',\n",
              " 'C84P45ThinF_IMG_20150818_101412_cell_113.png',\n",
              " 'C60P21thinF_IMG_20150803_144510_cell_150.png',\n",
              " 'C59P20thinF_IMG_20150803_115303_cell_29.png',\n",
              " 'C130P91ThinF_IMG_20151004_141825_cell_134.png',\n",
              " 'C116P77ThinF_IMG_20150930_171954_cell_109.png',\n",
              " 'C132P93ThinF_IMG_20151004_152642_cell_45.png',\n",
              " 'C134P95ThinF_IMG_20151005_121554_cell_121.png',\n",
              " 'C113P74ThinF_IMG_20150930_135904_cell_182.png',\n",
              " 'C140P101ThinF_IMG_20151005_210026_cell_177.png',\n",
              " 'C65P26N_ThinF_IMG_20150818_154326_cell_181.png',\n",
              " 'C91P52ThinF_IMG_20150821_124504_cell_189.png',\n",
              " 'C88P49ThinF_IMG_20150820_152521_cell_219.png',\n",
              " 'C96P57ThinF_IMG_20150824_105445_cell_202.png',\n",
              " 'C136P97ThinF_IMG_20151005_141321_cell_108.png',\n",
              " 'C82P43ThinF_IMG_20150817_123500_cell_222.png',\n",
              " 'C182P143NThinF_IMG_20151201_171950_cell_204.png',\n",
              " 'C68P29N_ThinF_IMG_20150819_134112_cell_144.png',\n",
              " 'C175P136NThinF_IMG_20151127_142009_cell_214.png',\n",
              " 'C132P93ThinF_IMG_20151004_151701_cell_148.png',\n",
              " 'C181P142ThinF_IMG_20151127_160434_cell_159.png',\n",
              " 'C51AP12thinF_IMG_20150724_161126_cell_125.png',\n",
              " 'C184P145ThinF_IMG_20151203_104440_cell_34.png',\n",
              " 'C91P52ThinF_IMG_20150821_124311_cell_29.png',\n",
              " 'C93P54ThinF_IMG_20150821_163815_cell_211.png',\n",
              " 'C184P145ThinF_IMG_20151203_103824_cell_139.png',\n",
              " 'C68P29N_ThinF_IMG_20150819_133350_cell_185.png',\n",
              " 'C63P24N_ThinF_IMG_20150818_144456_cell_177.png',\n",
              " 'C136P97ThinF_IMG_20151005_141803_cell_128.png',\n",
              " 'C180P141NThinF_IMG_20151201_165453_cell_23.png',\n",
              " 'C182P143NThinF_IMG_20151201_171905_cell_152.png',\n",
              " 'C119P80ThinF_IMG_20151002_124425_cell_134.png',\n",
              " 'C141P102ThinF_IMG_20151005_214208_cell_109.png',\n",
              " 'C82P43ThinF_IMG_20150817_123500_cell_247.png',\n",
              " 'C84P45ThinF_IMG_20150818_101550_cell_105.png',\n",
              " 'C39P4thinF_original_IMG_20150622_113842_cell_19.png',\n",
              " 'C118P79ThinF_IMG_20151002_105346_cell_166.png',\n",
              " 'C59P20thinF_IMG_20150803_112733_cell_215.png',\n",
              " 'C50P11thinF_IMG_20150724_115651_cell_187.png',\n",
              " 'C168P129ThinF_IMG_20151118_160516_cell_178.png',\n",
              " 'C162P123ThinF_IMG_20151116_104342_cell_150.png',\n",
              " 'C176P137NThinF_IMG_20151201_114035_cell_121.png',\n",
              " 'C184P145ThinF_IMG_20151203_104153_cell_164.png',\n",
              " 'C110P71ThinF_IMG_20150930_105925_cell_221.png',\n",
              " 'C52P13thinF_IMG_20150725_125213_cell_167.png',\n",
              " 'C109P70ThinF_IMG_20150930_103645_cell_175.png',\n",
              " 'C186P147NThinF_IMG_20151203_150557_cell_187.png',\n",
              " 'C95P56ThinF_IMG_20150821_171242_cell_101.png',\n",
              " 'C185P146ThinF_IMG_20151203_110933_cell_232.png',\n",
              " 'C178P139NThinF_IMG_20151201_155012_cell_152.png',\n",
              " 'C143P104ThinF_IMG_20151005_225528_cell_180.png',\n",
              " 'C189P150ThinF_IMG_20151203_140809_cell_137.png',\n",
              " 'C99P60ThinF_IMG_20150918_140900_cell_133.png',\n",
              " 'C80P41ThinF_IMG_20150817_111802_cell_23.png',\n",
              " 'C167P128ReThinF_IMG_20151201_110011_cell_234.png',\n",
              " 'C181P142ThinF_IMG_20151127_160434_cell_155.png',\n",
              " 'C98P59ThinF_IMG_20150917_153311_cell_159.png',\n",
              " 'C91P52ThinF_IMG_20150821_124311_cell_24.png',\n",
              " 'C59P20thinF_IMG_20150803_112733_cell_165.png',\n",
              " 'C184P145ThinF_IMG_20151203_103326_cell_145.png',\n",
              " 'C116P77ThinF_IMG_20150930_171558_cell_118.png',\n",
              " 'C91P52ThinF_IMG_20150821_124937_cell_205.png',\n",
              " 'C116P77ThinF_IMG_20150930_171809_cell_67.png',\n",
              " 'C132P93ThinF_IMG_20151004_152505_cell_123.png',\n",
              " 'C39P4thinF_original_IMG_20150622_114804_cell_27.png',\n",
              " 'C172P133ThinF_IMG_20151119_154936_cell_253.png',\n",
              " 'C52P13thinF_IMG_20150725_125847_cell_166.png',\n",
              " 'C99P60ThinF_IMG_20150918_141314_cell_126.png',\n",
              " 'C133P94ThinF_IMG_20151004_155331_cell_111.png',\n",
              " 'C130P91ThinF_IMG_20151004_141341_cell_158.png',\n",
              " 'C140P101ThinF_IMG_20151005_210026_cell_171.png',\n",
              " 'C132P93ThinF_IMG_20151004_151811_cell_167.png',\n",
              " 'C128P89ThinF_IMG_20151004_130549_cell_145.png',\n",
              " 'C184P145ThinF_IMG_20151203_104440_cell_40.png',\n",
              " 'C81P42ThinF_IMG_20150817_120524_cell_187.png',\n",
              " 'C99P60ThinF_IMG_20150918_141620_cell_1.png',\n",
              " 'C68P29N_ThinF_IMG_20150819_133236_cell_150.png',\n",
              " 'C136P97ThinF_IMG_20151005_143743_cell_120.png',\n",
              " 'C132P93ThinF_IMG_20151004_152257_cell_129.png',\n",
              " 'C181P142ThinF_IMG_20151127_160650_cell_171.png',\n",
              " 'C129P90ThinF_IMG_20151004_134520_cell_97.png',\n",
              " 'C101P62ThinF_IMG_20150918_151149_cell_72.png',\n",
              " 'C186P147NThinF_IMG_20151203_150132_cell_194.png',\n",
              " 'C99P60ThinF_IMG_20150918_141520_cell_88.png',\n",
              " 'C183P144NThinF_IMG_20151201_224107_cell_134.png',\n",
              " 'C88P49ThinF_IMG_20150820_150141_cell_220.png',\n",
              " 'C103P64ThinF_IMG_20150918_164250_cell_173.png',\n",
              " 'C133P94ThinF_IMG_20151004_155144_cell_117.png',\n",
              " 'C68P29N_ThinF_IMG_20150819_134504_cell_158.png',\n",
              " 'C133P94ThinF_IMG_20151004_154512_cell_123.png',\n",
              " 'C39P4thinF_original_IMG_20150622_111723_cell_81.png',\n",
              " 'C99P60ThinF_IMG_20150918_141620_cell_49.png',\n",
              " 'C132P93ThinF_IMG_20151004_152642_cell_12.png',\n",
              " 'C52P13thinF_IMG_20150725_124606_cell_159.png',\n",
              " 'C167P128ReThinF_IMG_20151201_105102_cell_251.png',\n",
              " 'C133P94ThinF_IMG_20151004_154351_cell_120.png',\n",
              " 'C183P144NThinF_IMG_20151201_223208_cell_121.png',\n",
              " 'C39P4thinF_original_IMG_20150622_114122_cell_4.png',\n",
              " 'C39P4thinF_original_IMG_20150622_105253_cell_100.png',\n",
              " 'C97P58ThinF_IMG_20150917_151903_cell_17.png',\n",
              " 'C184P145ThinF_IMG_20151203_102721_cell_9.png',\n",
              " 'C39P4thinF_original_IMG_20150622_114122_cell_3.png',\n",
              " 'C56P17thinF_IMG_20150728_160438_cell_121.png',\n",
              " 'C48P9thinF_IMG_20150721_161243_cell_169.png',\n",
              " 'C116P77ThinF_IMG_20150930_171635_cell_72.png',\n",
              " 'C182P143NThinF_IMG_20151201_172759_cell_51.png',\n",
              " 'C184P145ThinF_IMG_20151203_103326_cell_132.png',\n",
              " 'C163P124ThinF_IMG_20151116_111147_cell_224.png',\n",
              " 'C39P4thinF_original_IMG_20150622_111942_cell_18.png',\n",
              " 'C107P68ThinF_IMG_20150924_222233_cell_157.png',\n",
              " 'C132P93ThinF_IMG_20151004_151701_cell_129.png',\n",
              " 'C122P83ThinF_IMG_20151002_145751_cell_156.png',\n",
              " 'C65P26N_ThinF_IMG_20150818_154050_cell_178.png',\n",
              " 'C129P90ThinF_IMG_20151004_134700_cell_21.png',\n",
              " 'C119P80ThinF_IMG_20151002_124345_cell_165.png',\n",
              " 'C45P6ThinF_IMG_20151130_154725_cell_172.png',\n",
              " 'C48P9thinF_IMG_20150721_160944_cell_204.png',\n",
              " 'C133P94ThinF_IMG_20151004_154919_cell_128.png',\n",
              " 'C180P141NThinF_IMG_20151201_165601_cell_162.png',\n",
              " 'C76P37ThinF_IMG_20150815_172902_cell_221.png',\n",
              " 'C129P90ThinF_IMG_20151004_134636_cell_1.png',\n",
              " 'C113P74ThinF_IMG_20150930_135904_cell_188.png',\n",
              " 'C68P29N_ThinF_IMG_20150819_133236_cell_176.png',\n",
              " 'C101P62ThinF_IMG_20150918_151335_cell_75.png',\n",
              " 'C136P97ThinF_IMG_20151005_144449_cell_33.png',\n",
              " 'C137P98ThinF_IMG_20151005_163251_cell_60.png',\n",
              " 'C39P4thinF_original_IMG_20150622_111206_cell_91.png',\n",
              " 'C118P79ThinF_IMG_20151002_104831_cell_166.png',\n",
              " 'C129P90ThinF_IMG_20151004_134520_cell_116.png',\n",
              " 'C70P31_ThinF_IMG_20150813_131924_cell_8.png',\n",
              " 'C180P141NThinF_IMG_20151201_165601_cell_200.png',\n",
              " 'C59P20thinF_IMG_20150803_113139_cell_47.png',\n",
              " 'C70P31_ThinF_IMG_20150813_131457_cell_15.png',\n",
              " 'C39P4thinF_original_IMG_20150622_105102_cell_100.png',\n",
              " 'C180P141NThinF_IMG_20151201_164714_cell_182.png',\n",
              " 'C137P98ThinF_IMG_20151005_161449_cell_4.png',\n",
              " 'C70P31_ThinF_IMG_20150813_131330_cell_95.png',\n",
              " 'C137P98ThinF_IMG_20151005_163901_cell_79.png',\n",
              " 'C184P145ThinF_IMG_20151203_103637_cell_169.png',\n",
              " 'C170P131ThinF_IMG_20151119_115918_cell_272.png',\n",
              " 'C128P89ThinF_IMG_20151004_131231_cell_146.png',\n",
              " 'C116P77ThinF_IMG_20150930_172112_cell_86.png',\n",
              " 'C82P43ThinF_IMG_20150817_123500_cell_239.png',\n",
              " 'C70P31_ThinF_IMG_20150813_131022_cell_96.png',\n",
              " 'C68P29N_ThinF_IMG_20150819_133350_cell_167.png',\n",
              " 'C184P145ThinF_IMG_20151203_103637_cell_147.png',\n",
              " 'C133P94ThinF_IMG_20151004_154512_cell_126.png',\n",
              " 'C66P27N_ThinF_IMG_20150818_164408_cell_146.png',\n",
              " 'C74P35_ThinF_IMG_20150815_120957_cell_124.png',\n",
              " 'C132P93ThinF_IMG_20151004_151811_cell_172.png',\n",
              " 'C183P144NThinF_IMG_20151201_223357_cell_149.png',\n",
              " 'C186P147NThinF_IMG_20151203_150322_cell_166.png',\n",
              " 'C48P9thinF_IMG_20150721_161055_cell_203.png',\n",
              " 'C137P98ThinF_IMG_20151005_160122_cell_70.png',\n",
              " 'C60P21thinF_IMG_20150804_105639_cell_8.png',\n",
              " 'C189P150ThinF_IMG_20151203_140902_cell_119.png',\n",
              " 'C68P29N_ThinF_IMG_20150819_134326_cell_137.png',\n",
              " 'C39P4thinF_original_IMG_20150622_112119_cell_8.png',\n",
              " 'C181P142ThinF_IMG_20151127_160616_cell_158.png',\n",
              " 'C149P110ThinF_IMG_20151115_115154_cell_249.png',\n",
              " 'C51AP12thinF_IMG_20150724_155557_cell_79.png',\n",
              " 'C68P29N_ThinF_IMG_20150819_133350_cell_144.png',\n",
              " 'C133P94ThinF_IMG_20151004_154512_cell_131.png',\n",
              " 'C174P135NThinF_IMG_20151127_135342_cell_224.png',\n",
              " 'C119P80ThinF_IMG_20151002_124425_cell_138.png',\n",
              " 'C132P93ThinF_IMG_20151004_152045_cell_114.png',\n",
              " 'C184P145ThinF_IMG_20151203_102405_cell_187.png',\n",
              " 'C103P64ThinF_IMG_20150918_165016_cell_160.png',\n",
              " 'C133P94ThinF_IMG_20151004_155012_cell_9.png',\n",
              " 'C101P62ThinF_IMG_20150923_170110_cell_10.png',\n",
              " 'C116P77ThinF_IMG_20150930_171219_cell_91.png',\n",
              " 'C68P29N_ThinF_IMG_20150819_134625_cell_23.png',\n",
              " 'C132P93ThinF_IMG_20151004_152045_cell_125.png',\n",
              " 'C68P29N_ThinF_IMG_20150819_134326_cell_124.png',\n",
              " 'C39P4thinF_original_IMG_20150622_113632_cell_9.png',\n",
              " 'C180P141NThinF_IMG_20151201_165453_cell_32.png',\n",
              " 'C132P93ThinF_IMG_20151004_152642_cell_3.png',\n",
              " 'C70P31_ThinF_IMG_20150813_131609_cell_105.png',\n",
              " 'C56P17thinF_IMG_20150728_153413_cell_114.png',\n",
              " 'C157P118ThinF_IMG_20151115_163759_cell_188.png',\n",
              " 'C59P20thinF_IMG_20150803_112733_cell_203.png',\n",
              " 'C80P41ThinF_IMG_20150817_110957_cell_131.png',\n",
              " 'C180P141NThinF_IMG_20151201_170021_cell_30.png',\n",
              " 'C129P90ThinF_IMG_20151004_134944_cell_29.png',\n",
              " 'C180P141NThinF_IMG_20151201_165453_cell_10.png',\n",
              " 'C48P9thinF_IMG_20150721_164129_cell_20.png',\n",
              " 'C68P29N_ThinF_IMG_20150819_134830_cell_63.png',\n",
              " 'C118P79ThinF_IMG_20151002_105018_cell_156.png',\n",
              " 'C54P15thinF_IMG_20150728_102017_cell_213.png',\n",
              " 'C184P145ThinF_IMG_20151203_102405_cell_145.png',\n",
              " 'C118P79ThinF_IMG_20151002_105346_cell_152.png',\n",
              " 'C93P54ThinF_IMG_20150821_163640_cell_211.png',\n",
              " 'C182P143NThinF_IMG_20151201_172524_cell_197.png',\n",
              " 'C118P79ThinF_IMG_20151002_105827_cell_137.png',\n",
              " 'C78P39ThinF_IMG_20150606_103413_cell_171.png',\n",
              " 'C68P29N_ThinF_IMG_20150819_134504_cell_146.png',\n",
              " 'C50P11thinF_IMG_20150724_115603_cell_155.png',\n",
              " 'C176P137NThinF_IMG_20151201_120612_cell_27.png',\n",
              " 'C137P98ThinF_IMG_20151005_162010_cell_81.png',\n",
              " 'C99P60ThinF_IMG_20150918_141351_cell_141.png',\n",
              " 'C70P31_ThinF_IMG_20150813_131708_cell_11.png',\n",
              " 'C133P94ThinF_IMG_20151004_155012_cell_12.png',\n",
              " 'C97P58ThinF_IMG_20150917_151551_cell_184.png',\n",
              " 'C37BP2_thinF_IMG_20150620_133111a_cell_86.png',\n",
              " 'C136P97ThinF_IMG_20151005_141946_cell_102.png',\n",
              " 'C184P145ThinF_IMG_20151203_103637_cell_154.png',\n",
              " 'C39P4thinF_original_IMG_20150622_110900_cell_16.png',\n",
              " 'C93P54ThinF_IMG_20150821_163640_cell_207.png',\n",
              " 'C176P137NThinF_IMG_20151201_122708_cell_128.png',\n",
              " 'C181P142ThinF_IMG_20151127_155914_cell_183.png',\n",
              " 'C85P46ThinF_IMG_20150820_105748_cell_259.png',\n",
              " 'C118P79ThinF_IMG_20151002_110942_cell_4.png',\n",
              " 'C70P31_ThinF_IMG_20150813_131457_cell_7.png',\n",
              " 'C136P97ThinF_IMG_20151005_140646_cell_108.png',\n",
              " 'C46P7ThinF_IMG_20151130_205558_cell_147.png',\n",
              " 'C46P7ThinF_IMG_20151130_210815_cell_2.png',\n",
              " 'C109P70ThinF_IMG_20150930_102716_cell_186.png',\n",
              " 'C118P79ThinF_IMG_20151002_105827_cell_144.png',\n",
              " 'C39P4thinF_original_IMG_20150622_113446_cell_27.png',\n",
              " 'C84P45ThinF_IMG_20150818_104156_cell_116.png',\n",
              " 'C184P145ThinF_IMG_20151203_102721_cell_31.png',\n",
              " 'C39P4thinF_original_IMG_20150622_105335_cell_13.png',\n",
              " 'C144P105ThinF_IMG_20151015_155149_cell_304.png',\n",
              " 'C68P29N_ThinF_IMG_20150819_133447_cell_160.png',\n",
              " 'C167P128ReThinF_IMG_20151201_105707_cell_240.png',\n",
              " 'C99P60ThinF_IMG_20150918_141351_cell_140.png',\n",
              " 'C91P52ThinF_IMG_20150821_124504_cell_211.png',\n",
              " 'C182P143NThinF_IMG_20151201_172842_cell_31.png',\n",
              " 'C118P79ThinF_IMG_20151002_110725_cell_149.png',\n",
              " 'C115P76ThinF_IMG_20150930_162038_cell_207.png',\n",
              " 'C183P144NThinF_IMG_20151201_222917_cell_155.png',\n",
              " 'C48P9thinF_IMG_20150721_160406_cell_196.png',\n",
              " 'C91P52ThinF_IMG_20150821_124739_cell_186.png',\n",
              " 'C80P41ThinF_IMG_20150817_110608_cell_155.png',\n",
              " 'C132P93ThinF_IMG_20151004_151733_cell_178.png',\n",
              " 'C154P115ThinF_IMG_20151115_141407_cell_226.png',\n",
              " 'C97P58ThinF_IMG_20150917_151903_cell_32.png',\n",
              " 'C136P97ThinF_IMG_20151005_141552_cell_11.png',\n",
              " 'C177P138NThinF_IMG_20151201_143546_cell_165.png',\n",
              " 'C129P90ThinF_IMG_20151004_133703_cell_112.png',\n",
              " 'C70P31_ThinF_IMG_20150813_130510_cell_82.png',\n",
              " 'C70P31_ThinF_IMG_20150813_131330_cell_92.png',\n",
              " 'C81P42ThinF_IMG_20150817_120351_cell_179.png',\n",
              " 'C130P91ThinF_IMG_20151004_142709_cell_126.png',\n",
              " 'C82P43ThinF_IMG_20150817_124010_cell_203.png',\n",
              " 'C39P4thinF_original_IMG_20150622_113632_cell_4.png',\n",
              " 'C180P141NThinF_IMG_20151201_163848_cell_149.png',\n",
              " 'C101P62ThinF_IMG_20150923_170344_cell_93.png',\n",
              " 'C120P81ThinF_IMG_20151002_130918_cell_192.png',\n",
              " 'C116P77ThinF_IMG_20150930_171844_cell_100.png',\n",
              " 'C68P29N_ThinF_IMG_20150819_134625_cell_62.png',\n",
              " 'C116P77ThinF_IMG_20150930_172112_cell_99.png',\n",
              " 'C48P9thinF_IMG_20150721_164304_cell_12.png',\n",
              " 'C118P79ThinF_IMG_20151002_110725_cell_152.png',\n",
              " 'C138P99ThinF_IMG_20151005_173453_cell_114.png',\n",
              " 'C180P141NThinF_IMG_20151201_165528_cell_164.png',\n",
              " 'C68P29N_ThinF_IMG_20150819_134712_cell_13.png',\n",
              " 'C133P94ThinF_IMG_20151004_154512_cell_141.png',\n",
              " 'C101P62ThinF_IMG_20150923_170246_cell_82.png',\n",
              " 'C89P50ThinF_IMG_20150820_162504_cell_196.png',\n",
              " 'C189P150ThinF_IMG_20151203_141308_cell_66.png',\n",
              " 'C184P145ThinF_IMG_20151203_104440_cell_13.png',\n",
              " 'C39P4thinF_original_IMG_20150622_112119_cell_22.png',\n",
              " 'C101P62ThinF_IMG_20150923_165215_cell_39.png',\n",
              " 'C108P69ThinF_IMG_20150924_225004_cell_222.png',\n",
              " 'C82P43ThinF_IMG_20150817_123652_cell_226.png',\n",
              " 'C39P4thinF_original_IMG_20150622_111206_cell_103.png',\n",
              " 'C140P101ThinF_IMG_20151005_211530_cell_147.png',\n",
              " 'C39P4thinF_original_IMG_20150622_112119_cell_11.png',\n",
              " 'C132P93ThinF_IMG_20151004_153030_cell_15.png',\n",
              " 'C133P94ThinF_IMG_20151004_155721_cell_119.png',\n",
              " 'C48P9thinF_IMG_20150721_164129_cell_32.png',\n",
              " 'C182P143NThinF_IMG_20151201_172257_cell_180.png',\n",
              " 'C68P29N_ThinF_IMG_20150819_134830_cell_16.png',\n",
              " 'C97P58ThinF_IMG_20150917_145555_cell_169.png',\n",
              " 'C137P98ThinF_IMG_20151005_161859_cell_83.png',\n",
              " 'C123P84ThinF_IMG_20151002_150931_cell_200.png',\n",
              " 'C119P80ThinF_IMG_20151002_122720_cell_170.png',\n",
              " 'C182P143NThinF_IMG_20151201_172759_cell_52.png',\n",
              " 'C101P62ThinF_IMG_20150923_170110_cell_18.png',\n",
              " 'C101P62ThinF_IMG_20150923_170110_cell_20.png',\n",
              " 'C59P20thinF_IMG_20150803_112733_cell_211.png',\n",
              " 'C68P29N_ThinF_IMG_20150819_134504_cell_160.png',\n",
              " 'C82P43ThinF_IMG_20150817_125326_cell_20.png',\n",
              " 'C97P58ThinF_IMG_20150917_151903_cell_22.png',\n",
              " 'C70P31_ThinF_IMG_20150813_131708_cell_2.png',\n",
              " 'C133P94ThinF_IMG_20151004_155144_cell_123.png',\n",
              " 'C93P54ThinF_IMG_20150821_163640_cell_209.png',\n",
              " 'C79P40ThinF_IMG_20150817_103901_cell_122.png',\n",
              " 'C99P60ThinF_IMG_20150918_142334_cell_21.png',\n",
              " 'C174P135NThinF_IMG_20151127_135554_cell_191.png',\n",
              " 'C184P145ThinF_IMG_20151203_103824_cell_124.png',\n",
              " 'C159P120ThinF_IMG_20151115_190421_cell_207.png',\n",
              " 'C48P9thinF_IMG_20150721_160406_cell_237.png',\n",
              " 'C68P29N_ThinF_IMG_20150819_133350_cell_134.png',\n",
              " 'C137P98ThinF_IMG_20151005_163712_cell_83.png',\n",
              " 'C99P60ThinF_IMG_20150918_142128_cell_103.png',\n",
              " 'C101P62ThinF_IMG_20150923_170246_cell_90.png',\n",
              " 'C175P136NThinF_IMG_20151127_141428_cell_233.png',\n",
              " 'C39P4thinF_original_IMG_20150622_105335_cell_11.png',\n",
              " 'C101P62ThinF_IMG_20150918_155731_cell_71.png',\n",
              " 'C48P9thinF_IMG_20150721_160944_cell_206.png',\n",
              " 'C137P98ThinF_IMG_20151005_155704_cell_63.png',\n",
              " 'C82P43ThinF_IMG_20150817_125326_cell_22.png',\n",
              " 'C118P79ThinF_IMG_20151002_105735_cell_157.png',\n",
              " 'C48P9thinF_IMG_20150721_164304_cell_9.png',\n",
              " 'C133P94ThinF_IMG_20151004_155912_cell_8.png',\n",
              " 'C103P64ThinF_IMG_20150918_165510_cell_183.png',\n",
              " 'C89P50ThinF_IMG_20150820_162300_cell_205.png',\n",
              " 'C136P97ThinF_IMG_20151005_140538_cell_112.png',\n",
              " 'C69P30N_ThinF_IMG_20150819_135613_cell_244.png',\n",
              " 'C48P9thinF_IMG_20150721_164304_cell_5.png',\n",
              " 'C99P60ThinF_IMG_20150918_142334_cell_28.png',\n",
              " 'C132P93ThinF_IMG_20151004_152045_cell_152.png',\n",
              " 'C80P41ThinF_IMG_20150817_110834_cell_125.png',\n",
              " 'C128P89ThinF_IMG_20151004_131632_cell_174.png',\n",
              " 'C68P29N_ThinF_IMG_20150819_134712_cell_16.png',\n",
              " 'C116P77ThinF_IMG_20150930_171558_cell_108.png',\n",
              " 'C132P93ThinF_IMG_20151004_152257_cell_113.png',\n",
              " 'C136P97ThinF_IMG_20151005_140646_cell_123.png',\n",
              " 'C120P81ThinF_IMG_20151002_130407_cell_190.png',\n",
              " 'C137P98ThinF_IMG_20151005_162010_cell_75.png',\n",
              " 'C97P58ThinF_IMG_20150917_151551_cell_182.png',\n",
              " 'C91P52ThinF_IMG_20150821_124311_cell_32.png',\n",
              " 'C70P31_ThinF_IMG_20150813_131330_cell_85.png',\n",
              " 'C93P54ThinF_IMG_20150821_164024_cell_196.png',\n",
              " 'C182P143NThinF_IMG_20151201_172842_cell_33.png',\n",
              " 'C136P97ThinF_IMG_20151005_143743_cell_117.png',\n",
              " 'C113P74ThinF_IMG_20150930_140646_cell_184.png',\n",
              " 'C80P41ThinF_IMG_20150817_111544_cell_133.png',\n",
              " 'C65P26N_ThinF_IMG_20150818_154714_cell_184.png',\n",
              " 'C99P60ThinF_IMG_20150918_140900_cell_134.png',\n",
              " 'C99P60ThinF_IMG_20150918_141857_cell_38.png',\n",
              " 'C59P20thinF_IMG_20150803_115303_cell_15.png',\n",
              " 'C54P15thinF_IMG_20150728_105949_cell_241.png',\n",
              " 'C132P93ThinF_IMG_20151004_152045_cell_133.png',\n",
              " 'C119P80ThinF_IMG_20151002_124345_cell_159.png',\n",
              " 'C116P77ThinF_IMG_20150930_171844_cell_97.png',\n",
              " 'C48P9thinF_IMG_20150721_164031_cell_19.png',\n",
              " 'C180P141NThinF_IMG_20151201_170021_cell_15.png',\n",
              " 'C182P143NThinF_IMG_20151201_172759_cell_48.png',\n",
              " 'C97P58ThinF_IMG_20150917_145555_cell_175.png',\n",
              " 'C136P97ThinF_IMG_20151005_140538_cell_107.png',\n",
              " 'C116P77ThinF_IMG_20150930_172112_cell_98.png',\n",
              " 'C128P89ThinF_IMG_20151004_131231_cell_157.png',\n",
              " 'C174P135NThinF_IMG_20151127_135640_cell_188.png',\n",
              " 'C97P58ThinF_IMG_20150917_152225_cell_4.png',\n",
              " 'C68P29N_ThinF_IMG_20150819_133350_cell_178.png',\n",
              " 'C189P150ThinF_IMG_20151203_141455_cell_77.png',\n",
              " 'C120P81ThinF_IMG_20151002_125443_cell_139.png',\n",
              " 'C91P52ThinF_IMG_20150821_123116_cell_202.png',\n",
              " 'C173P134NThinF_IMG_20151130_125408_cell_271.png',\n",
              " 'C48P9thinF_IMG_20150721_164304_cell_27.png',\n",
              " 'C189P150ThinF_IMG_20151203_142224_cell_88.png',\n",
              " 'C99P60ThinF_IMG_20150918_141314_cell_123.png',\n",
              " 'C59P20thinF_IMG_20150803_115303_cell_38.png',\n",
              " 'C132P93ThinF_IMG_20151004_152045_cell_151.png',\n",
              " 'C97P58ThinF_IMG_20150917_145555_cell_173.png',\n",
              " 'C46P7ThinF_IMG_20151130_205558_cell_150.png',\n",
              " 'C118P79ThinF_IMG_20151002_110212_cell_8.png',\n",
              " 'C171P132ThinF_IMG_20151119_153150_cell_222.png',\n",
              " 'C99P60ThinF_IMG_20150918_141620_cell_52.png',\n",
              " 'C99P60ThinF_IMG_20150918_141620_cell_28.png',\n",
              " 'C132P93ThinF_IMG_20151004_151701_cell_165.png',\n",
              " 'C182P143NThinF_IMG_20151201_172216_cell_183.png',\n",
              " 'C101P62ThinF_IMG_20150918_151507_cell_67.png',\n",
              " 'C181P142ThinF_IMG_20151127_155914_cell_164.png',\n",
              " 'C91P52ThinF_IMG_20150821_124311_cell_2.png',\n",
              " 'C129P90ThinF_IMG_20151004_133921_cell_102.png',\n",
              " 'C129P90ThinF_IMG_20151004_133421_cell_99.png',\n",
              " 'C91P52ThinF_IMG_20150821_124504_cell_202.png',\n",
              " 'C81P42ThinF_IMG_20150817_120712_cell_166.png',\n",
              " 'C132P93ThinF_IMG_20151004_152642_cell_8.png',\n",
              " 'C154P115ThinF_IMG_20151115_141336_cell_231.png',\n",
              " 'C132P93ThinF_IMG_20151004_152505_cell_147.png',\n",
              " 'C82P43ThinF_IMG_20150817_123500_cell_217.png',\n",
              " 'C176P137NThinF_IMG_20151201_114035_cell_120.png',\n",
              " 'C134P95ThinF_IMG_20151005_121952_cell_122.png',\n",
              " 'C68P29N_ThinF_IMG_20150819_134830_cell_28.png',\n",
              " 'C39P4thinF_original_IMG_20150622_114804_cell_13.png',\n",
              " 'C136P97ThinF_IMG_20151005_144449_cell_29.png',\n",
              " 'C136P97ThinF_IMG_20151005_143743_cell_111.png',\n",
              " 'C63P24N_ThinF_IMG_20150818_143544_cell_172.png',\n",
              " 'C46P7ThinF_IMG_20151130_205719_cell_128.png',\n",
              " 'C114P75ThinF_IMG_20150930_150733_cell_149.png',\n",
              " 'C82P43ThinF_IMG_20150817_124728_cell_8.png',\n",
              " 'C101P62ThinF_IMG_20150923_170344_cell_91.png',\n",
              " 'C59P20thinF_IMG_20150803_112802_cell_188.png',\n",
              " 'C89P50ThinF_IMG_20150820_163728_cell_191.png',\n",
              " 'C184P145ThinF_IMG_20151203_103326_cell_126.png',\n",
              " 'C80P41ThinF_IMG_20150817_110957_cell_134.png',\n",
              " 'C99P60ThinF_IMG_20150918_141001_cell_129.png',\n",
              " 'C165P126ThinF_IMG_20151117_171006_cell_222.png',\n",
              " 'C136P97ThinF_IMG_20151005_143329_cell_92.png',\n",
              " 'C136P97ThinF_IMG_20151005_142627_cell_15.png',\n",
              " 'C59P20thinF_IMG_20150803_113139_cell_56.png',\n",
              " 'C129P90ThinF_IMG_20151004_134636_cell_16.png',\n",
              " 'C99P60ThinF_IMG_20150918_141351_cell_142.png',\n",
              " 'C182P143NThinF_IMG_20151201_172257_cell_144.png',\n",
              " 'C116P77ThinF_IMG_20150930_171809_cell_71.png',\n",
              " 'C121P82ThinF_IMG_20151002_133631_cell_83.png',\n",
              " 'C132P93ThinF_IMG_20151004_151733_cell_153.png',\n",
              " 'C132P93ThinF_IMG_20151004_151941_cell_37.png',\n",
              " 'C182P143NThinF_IMG_20151201_172524_cell_162.png',\n",
              " 'C181P142ThinF_IMG_20151127_160514_cell_169.png',\n",
              " 'C59P20thinF_IMG_20150803_113809_cell_42.png',\n",
              " 'C148P109ThinF_IMG_20151115_112333_cell_241.png',\n",
              " 'C59P20thinF_IMG_20150803_113051_cell_192.png',\n",
              " 'C78P39ThinF_IMG_20150606_103459_cell_173.png',\n",
              " 'C126P87ThinF_IMG_20151004_104441_cell_118.png',\n",
              " 'C84P45ThinF_IMG_20150818_101550_cell_106.png',\n",
              " 'C105P66ThinF_IMG_20150924_095034_cell_148.png',\n",
              " 'C167P128ReThinF_IMG_20151201_105354_cell_243.png',\n",
              " 'C70P31_ThinF_IMG_20150813_131330_cell_99.png',\n",
              " 'C184P145ThinF_IMG_20151203_102405_cell_152.png',\n",
              " 'C46P7ThinF_IMG_20151130_205756_cell_132.png',\n",
              " 'C89P50ThinF_IMG_20150820_163728_cell_200.png',\n",
              " 'C137P98ThinF_IMG_20151005_163901_cell_75.png',\n",
              " 'C149P110ThinF_IMG_20151115_114555_cell_300.png',\n",
              " 'C59P20thinF_IMG_20150803_112733_cell_174.png',\n",
              " 'C113P74ThinF_IMG_20150930_134355_cell_165.png',\n",
              " 'C189P150ThinF_IMG_20151203_141615_cell_89.png',\n",
              " 'C137P98ThinF_IMG_20151005_161306_cell_12.png',\n",
              " 'C172P133ThinF_IMG_20151119_155307_cell_262.png',\n",
              " 'C137P98ThinF_IMG_20151005_160256_cell_63.png',\n",
              " 'C184P145ThinF_IMG_20151203_104440_cell_39.png',\n",
              " 'C176P137NThinF_IMG_20151201_114235_cell_15.png',\n",
              " 'C91P52ThinF_IMG_20150821_124311_cell_10.png',\n",
              " 'C116P77ThinF_IMG_20150930_171844_cell_114.png',\n",
              " 'C184P145ThinF_IMG_20151203_104153_cell_185.png',\n",
              " 'C182P143NThinF_IMG_20151201_171836_cell_150.png',\n",
              " 'C182P143NThinF_IMG_20151201_172057_cell_166.png',\n",
              " 'C84P45ThinF_IMG_20150818_103817_cell_11.png',\n",
              " 'C78P39ThinF_IMG_20150606_103413_cell_172.png',\n",
              " 'C118P79ThinF_IMG_20151002_110212_cell_5.png',\n",
              " 'C136P97ThinF_IMG_20151005_141803_cell_129.png',\n",
              " 'C120P81ThinF_IMG_20151002_130150_cell_198.png',\n",
              " 'C48P9thinF_IMG_20150721_164304_cell_4.png',\n",
              " 'C134P95ThinF_IMG_20151005_121952_cell_123.png',\n",
              " 'C91P52ThinF_IMG_20150821_125154_cell_216.png',\n",
              " 'C184P145ThinF_IMG_20151203_102405_cell_162.png',\n",
              " 'C177P138NThinF_IMG_20151201_144820_cell_147.png',\n",
              " 'C70P31_ThinF_IMG_20150819_142239_cell_1.png',\n",
              " 'C182P143NThinF_IMG_20151201_172216_cell_177.png',\n",
              " 'C189P150ThinF_IMG_20151203_141809_cell_94.png',\n",
              " 'C82P43ThinF_IMG_20150817_123500_cell_221.png',\n",
              " 'C129P90ThinF_IMG_20151004_133244_cell_119.png',\n",
              " 'C76P37ThinF_IMG_20150815_172808_cell_227.png',\n",
              " 'C146P107ThinF_IMG_20151018_134554_cell_250.png',\n",
              " 'C59P20thinF_IMG_20150803_112802_cell_173.png',\n",
              " 'C119P80ThinF_IMG_20151002_124304_cell_171.png',\n",
              " 'C97P58ThinF_IMG_20150917_152225_cell_21.png',\n",
              " 'C101P62ThinF_IMG_20150923_170110_cell_15.png',\n",
              " 'C67P28N_ThinF_IMG_20150819_133000_cell_167.png',\n",
              " 'C182P143NThinF_IMG_20151201_171836_cell_181.png',\n",
              " 'C68P29N_ThinF_IMG_20150819_134504_cell_163.png',\n",
              " 'C39P4thinF_original_IMG_20150622_105102_cell_83.png',\n",
              " 'C157P118ThinF_IMG_20151115_162818_cell_187.png',\n",
              " 'C134P95ThinF_IMG_20151005_121048_cell_112.png',\n",
              " 'C120P81ThinF_IMG_20151002_130407_cell_184.png',\n",
              " 'C181P142ThinF_IMG_20151127_155722_cell_175.png',\n",
              " 'C182P143NThinF_IMG_20151201_171950_cell_219.png',\n",
              " 'C45P6ThinF_IMG_20151130_154725_cell_168.png',\n",
              " 'C159P120ThinF_IMG_20151115_185541_cell_189.png',\n",
              " 'C133P94ThinF_IMG_20151004_155144_cell_140.png',\n",
              " 'C116P77ThinF_IMG_20150930_171844_cell_104.png',\n",
              " 'C39P4thinF_original_IMG_20150622_114804_cell_7.png',\n",
              " 'C76P37ThinF_IMG_20150815_172808_cell_221.png',\n",
              " 'C123P84ThinF_IMG_20151002_150931_cell_205.png',\n",
              " 'C189P150ThinF_IMG_20151203_141406_cell_94.png',\n",
              " 'C39P4thinF_original_IMG_20150622_111326_cell_15.png',\n",
              " 'C59P20thinF_IMG_20150803_112733_cell_167.png',\n",
              " 'C176P137NThinF_IMG_20151201_114235_cell_12.png',\n",
              " 'C66P27N_ThinF_IMG_20150818_163419_cell_198.png',\n",
              " 'C179P140ThinF_IMG_20151127_153420_cell_180.png',\n",
              " 'C70P31_ThinF_IMG_20150813_131330_cell_84.png',\n",
              " 'C140P101ThinF_IMG_20151005_211530_cell_157.png',\n",
              " 'C91P52ThinF_IMG_20150821_124739_cell_194.png',\n",
              " 'C132P93ThinF_IMG_20151004_151941_cell_6.png',\n",
              " 'C129P90ThinF_IMG_20151004_133921_cell_119.png',\n",
              " 'C189P150ThinF_IMG_20151203_141308_cell_60.png',\n",
              " 'C129P90ThinF_IMG_20151004_133703_cell_96.png',\n",
              " 'C186P147NThinF_IMG_20151203_150222_cell_173.png',\n",
              " 'C39P4thinF_original_IMG_20150622_110115_cell_128.png',\n",
              " 'C116P77ThinF_IMG_20150930_171635_cell_85.png',\n",
              " 'C179P140ThinF_IMG_20151127_153420_cell_181.png',\n",
              " 'C39P4thinF_original_IMG_20150622_111942_cell_8.png',\n",
              " 'C67P28N_ThinF_IMG_20150819_115955_cell_169.png',\n",
              " 'C166P127ThinF_IMG_20151117_194932_cell_224.png',\n",
              " 'C117P78ThinF_IMG_20150930_221927_cell_80.png',\n",
              " 'C82P43ThinF_IMG_20150817_123824_cell_183.png',\n",
              " 'C137P98ThinF_IMG_20151005_164119_cell_70.png',\n",
              " 'C116P77ThinF_IMG_20150930_172112_cell_73.png',\n",
              " 'C132P93ThinF_IMG_20151004_152257_cell_131.png',\n",
              " 'C101P62ThinF_IMG_20150918_151006_cell_69.png',\n",
              " 'C68P29N_ThinF_IMG_20150819_133447_cell_179.png',\n",
              " 'C183P144NThinF_IMG_20151201_223208_cell_112.png',\n",
              " 'C68P29N_ThinF_IMG_20150819_133350_cell_127.png',\n",
              " 'C59P20thinF_IMG_20150803_113430_cell_15.png',\n",
              " 'C180P141NThinF_IMG_20151201_165453_cell_57.png',\n",
              " 'C39P4thinF_original_IMG_20150622_113446_cell_7.png',\n",
              " 'C68P29N_ThinF_IMG_20150819_133350_cell_155.png',\n",
              " 'C116P77ThinF_IMG_20150930_171558_cell_101.png',\n",
              " 'C149P110ThinF_IMG_20151115_114555_cell_309.png',\n",
              " 'C91P52ThinF_IMG_20150821_124311_cell_27.png',\n",
              " 'C149P110ThinF_IMG_20151115_114555_cell_303.png',\n",
              " 'C82P43ThinF_IMG_20150817_123824_cell_204.png',\n",
              " 'C97P58ThinF_IMG_20150917_152225_cell_27.png',\n",
              " 'C91P52ThinF_IMG_20150821_124937_cell_213.png',\n",
              " 'C182P143NThinF_IMG_20151201_172216_cell_135.png',\n",
              " 'C99P60ThinF_IMG_20150918_142334_cell_16.png',\n",
              " 'C136P97ThinF_IMG_20151005_141552_cell_13.png',\n",
              " 'C129P90ThinF_IMG_20151004_134700_cell_7.png',\n",
              " 'C182P143NThinF_IMG_20151201_171836_cell_176.png',\n",
              " 'C80P41ThinF_IMG_20150817_110348_cell_124.png',\n",
              " 'C51AP12thinF_IMG_20150724_153313_cell_101.png',\n",
              " 'C182P143NThinF_IMG_20151201_171950_cell_161.png',\n",
              " 'C45P6ThinF_IMG_20151130_155110_cell_209.png',\n",
              " 'C159P120ThinF_IMG_20151115_190812_cell_244.png',\n",
              " 'C186P147NThinF_IMG_20151203_150408_cell_182.png',\n",
              " 'C132P93ThinF_IMG_20151004_152808_cell_39.png',\n",
              " 'C133P94ThinF_IMG_20151004_155144_cell_134.png',\n",
              " 'C124P85ThinF_IMG_20151002_154808_cell_138.png',\n",
              " 'C189P150ThinF_IMG_20151203_140809_cell_130.png',\n",
              " 'C182P143NThinF_IMG_20151201_171950_cell_215.png',\n",
              " 'C120P81ThinF_IMG_20151002_130150_cell_210.png',\n",
              " 'C48P9thinF_IMG_20150721_160406_cell_205.png',\n",
              " 'C80P41ThinF_IMG_20150817_111802_cell_6.png',\n",
              " 'C45P6ThinF_IMG_20151130_160135_cell_215.png',\n",
              " 'C55P16thinF_IMG_20150728_121151_cell_115.png',\n",
              " 'C99P60ThinF_IMG_20150918_141857_cell_49.png',\n",
              " 'C118P79ThinF_IMG_20151002_110725_cell_150.png',\n",
              " 'C170P131ThinF_IMG_20151119_120019_cell_245.png',\n",
              " 'C46P7ThinF_IMG_20151130_210123_cell_126.png',\n",
              " 'C84P45ThinF_IMG_20150818_101903_cell_11.png',\n",
              " 'C99P60ThinF_IMG_20150918_142128_cell_115.png',\n",
              " 'C48P9thinF_IMG_20150721_160944_cell_217.png',\n",
              " 'C80P41ThinF_IMG_20150817_111943_cell_6.png',\n",
              " 'C100P61ThinF_IMG_20150918_145042_cell_162.png',\n",
              " 'C99P60ThinF_IMG_20150918_141129_cell_94.png',\n",
              " 'C182P143NThinF_IMG_20151201_172607_cell_9.png',\n",
              " 'C182P143NThinF_IMG_20151201_171950_cell_191.png',\n",
              " 'C99P60ThinF_IMG_20150918_141857_cell_19.png',\n",
              " 'C116P77ThinF_IMG_20150930_171219_cell_82.png',\n",
              " 'C180P141NThinF_IMG_20151201_165601_cell_180.png',\n",
              " 'C99P60ThinF_IMG_20150918_142334_cell_3.png',\n",
              " 'C182P143NThinF_IMG_20151201_172842_cell_43.png',\n",
              " 'C176P137NThinF_IMG_20151201_121303_cell_122.png',\n",
              " 'C128P89ThinF_IMG_20151004_130408_cell_162.png',\n",
              " 'C185P146ThinF_IMG_20151203_111121_cell_219.png',\n",
              " 'C74P35_ThinF_IMG_20150815_120957_cell_126.png',\n",
              " 'C130P91ThinF_IMG_20151004_141825_cell_133.png',\n",
              " 'C124P85ThinF_IMG_20151002_154846_cell_147.png',\n",
              " 'C97P58ThinF_IMG_20150917_151903_cell_16.png',\n",
              " 'C132P93ThinF_IMG_20151004_152257_cell_128.png',\n",
              " 'C189P150ThinF_IMG_20151203_142224_cell_83.png',\n",
              " 'C113P74ThinF_IMG_20150930_134355_cell_167.png',\n",
              " 'C59P20thinF_IMG_20150803_112802_cell_179.png',\n",
              " 'C182P143NThinF_IMG_20151201_171905_cell_173.png',\n",
              " 'C99P60ThinF_IMG_20150918_141520_cell_87.png',\n",
              " 'C182P143NThinF_IMG_20151201_172057_cell_137.png',\n",
              " 'C84P45ThinF_IMG_20150818_104849_cell_11.png',\n",
              " 'C91P52ThinF_IMG_20150821_125423_cell_17.png',\n",
              " 'C113P74ThinF_IMG_20150930_134614_cell_169.png',\n",
              " 'C66P27N_ThinF_IMG_20150818_163551_cell_178.png',\n",
              " 'C82P43ThinF_IMG_20150817_124010_cell_202.png',\n",
              " 'C129P90ThinF_IMG_20151004_134306_cell_128.png',\n",
              " 'C159P120ThinF_IMG_20151115_190002_cell_235.png',\n",
              " 'C61P22N_ThinF_IMG_20150818_112704_cell_216.png',\n",
              " 'C59P20thinF_IMG_20150803_112733_cell_208.png',\n",
              " 'C46P7ThinF_IMG_20151130_205756_cell_134.png',\n",
              " 'C102P63ThinF_IMG_20150918_161826_cell_172.png',\n",
              " 'C72P33_ThinF_IMG_20150815_104307_cell_222.png',\n",
              " 'C70P31_ThinF_IMG_20150819_142744_cell_102.png',\n",
              " 'C187P148NThinF_IMG_20151203_153713_cell_194.png',\n",
              " 'C116P77ThinF_IMG_20150930_171844_cell_90.png',\n",
              " 'C98P59ThinF_IMG_20150917_154452_cell_205.png',\n",
              " 'C141P102ThinF_IMG_20151005_214836_cell_149.png',\n",
              " 'C39P4thinF_original_IMG_20150622_114122_cell_16.png',\n",
              " 'C145P106ThinF_IMG_20151016_154719_cell_155.png',\n",
              " 'C184P145ThinF_IMG_20151203_102405_cell_166.png',\n",
              " 'C173P134NThinF_IMG_20151130_115339_cell_261.png',\n",
              " 'C132P93ThinF_IMG_20151004_152808_cell_49.png',\n",
              " 'C68P29N_ThinF_IMG_20150819_133447_cell_174.png',\n",
              " 'C82P43ThinF_IMG_20150817_124010_cell_184.png',\n",
              " 'C68P29N_ThinF_IMG_20150819_133350_cell_179.png',\n",
              " 'C181P142ThinF_IMG_20151127_155914_cell_155.png',\n",
              " 'C91P52ThinF_IMG_20150821_124504_cell_206.png',\n",
              " 'C179P140ThinF_IMG_20151127_153436_cell_171.png',\n",
              " 'C60P21thinF_IMG_20150804_105034_cell_115.png',\n",
              " 'C84P45ThinF_IMG_20150818_101146_cell_85.png',\n",
              " 'C68P29N_ThinF_IMG_20150819_133236_cell_201.png',\n",
              " 'C182P143NThinF_IMG_20151201_172216_cell_169.png',\n",
              " 'C137P98ThinF_IMG_20151005_161306_cell_19.png',\n",
              " 'C97P58ThinF_IMG_20150917_151512_cell_174.png',\n",
              " 'C174P135NThinF_IMG_20151127_135554_cell_201.png',\n",
              " 'C48P9thinF_IMG_20150721_161243_cell_154.png',\n",
              " 'C80P41ThinF_IMG_20150817_110348_cell_125.png',\n",
              " 'C82P43ThinF_IMG_20150817_125114_cell_17.png',\n",
              " 'C116P77ThinF_IMG_20150930_171448_cell_92.png',\n",
              " 'C129P90ThinF_IMG_20151004_134520_cell_111.png',\n",
              " 'C60P21thinF_IMG_20150804_113602_cell_127.png',\n",
              " 'C186P147NThinF_IMG_20151203_150132_cell_197.png',\n",
              " 'C70P31_ThinF_IMG_20150813_132732_cell_15.png',\n",
              " 'C70P31_ThinF_IMG_20150813_130849_cell_77.png',\n",
              " 'C88P49ThinF_IMG_20150820_151626_cell_189.png',\n",
              " 'C180P141NThinF_IMG_20151201_165659_cell_47.png',\n",
              " 'C65P26N_ThinF_IMG_20150818_154714_cell_185.png',\n",
              " 'C177P138NThinF_IMG_20151201_142942_cell_171.png',\n",
              " 'C101P62ThinF_IMG_20150923_170344_cell_80.png',\n",
              " 'C60P21thinF_IMG_20150803_144003_cell_121.png',\n",
              " 'C59P20thinF_IMG_20150803_113139_cell_9.png',\n",
              " 'C133P94ThinF_IMG_20151004_155518_cell_100.png',\n",
              " 'C89P50ThinF_IMG_20150820_163728_cell_202.png',\n",
              " 'C129P90ThinF_IMG_20151004_134520_cell_98.png',\n",
              " 'C101P62ThinF_IMG_20150923_170344_cell_76.png',\n",
              " 'C107P68ThinF_IMG_20150924_222415_cell_182.png',\n",
              " 'C101P62ThinF_IMG_20150918_151006_cell_70.png',\n",
              " 'C156P117ThinF_IMG_20151115_154313_cell_272.png',\n",
              " 'C48P9thinF_IMG_20150721_164129_cell_12.png',\n",
              " 'C189P150ThinF_IMG_20151203_141004_cell_75.png',\n",
              " 'C184P145ThinF_IMG_20151203_103637_cell_186.png',\n",
              " 'C80P41ThinF_IMG_20150817_112329_cell_29.png',\n",
              " 'C175P136NThinF_IMG_20151127_141253_cell_251.png',\n",
              " 'C68P29N_ThinF_IMG_20150819_133447_cell_156.png',\n",
              " 'C184P145ThinF_IMG_20151203_103114_cell_146.png',\n",
              " ...]"
            ]
          },
          "metadata": {},
          "execution_count": 81
        }
      ],
      "source": [
        "os.listdir(train_path+'parasitized')  # /content/cell_images/train/parasitized"
      ]
    },
    {
      "cell_type": "code",
      "execution_count": 82,
      "metadata": {
        "id": "U3zWAaJRsl9N",
        "colab": {
          "base_uri": "https://localhost:8080/"
        },
        "outputId": "6ecc5883-04b1-49ca-b709-5fcc74c6800e"
      },
      "outputs": [
        {
          "output_type": "execute_result",
          "data": {
            "text/plain": [
              "(12479, 12479)"
            ]
          },
          "metadata": {},
          "execution_count": 82
        }
      ],
      "source": [
        "len(os.listdir(train_path+'parasitized')), len(os.listdir(train_path+'uninfected'))  # classes are balanced"
      ]
    },
    {
      "cell_type": "code",
      "execution_count": 83,
      "metadata": {
        "id": "pQluIckosl9O",
        "colab": {
          "base_uri": "https://localhost:8080/"
        },
        "outputId": "4bba2fcb-0a56-418e-e931-2080dd17a4a3"
      },
      "outputs": [
        {
          "output_type": "execute_result",
          "data": {
            "text/plain": [
              "(1300, 1300)"
            ]
          },
          "metadata": {},
          "execution_count": 83
        }
      ],
      "source": [
        "len(os.listdir(test_path+'parasitized')), len(os.listdir(test_path+'uninfected'))"
      ]
    },
    {
      "cell_type": "code",
      "source": [
        "os.walk(my_data_dir)"
      ],
      "metadata": {
        "colab": {
          "base_uri": "https://localhost:8080/"
        },
        "id": "eQH70qoCOeBT",
        "outputId": "167f22bc-5938-47ca-97d5-706111a5482b"
      },
      "execution_count": 84,
      "outputs": [
        {
          "output_type": "execute_result",
          "data": {
            "text/plain": [
              "<generator object walk at 0x7f6ebd3d7190>"
            ]
          },
          "metadata": {},
          "execution_count": 84
        }
      ]
    },
    {
      "cell_type": "code",
      "execution_count": 85,
      "metadata": {
        "id": "nz_3zdr4avaP",
        "colab": {
          "base_uri": "https://localhost:8080/"
        },
        "outputId": "2a7ae1a3-05ac-44d5-ba8d-c8811bc74ad0"
      },
      "outputs": [
        {
          "output_type": "stream",
          "name": "stdout",
          "text": [
            "There are 2 directories and 0 images in 'cell_images'.\n",
            "There are 2 directories and 0 images in 'cell_images/test'.\n",
            "There are 0 directories and 1300 images in 'cell_images/test/uninfected'.\n",
            "There are 0 directories and 1300 images in 'cell_images/test/parasitized'.\n",
            "There are 2 directories and 0 images in 'cell_images/train'.\n",
            "There are 0 directories and 12479 images in 'cell_images/train/uninfected'.\n",
            "There are 0 directories and 12479 images in 'cell_images/train/parasitized'.\n"
          ]
        }
      ],
      "source": [
        "# Walk through cell_images directory and list number of files\n",
        "for dirpath, dirnames, filenames in os.walk(my_data_dir):\n",
        "  print(f\"There are {len(dirnames)} directories and {len(filenames)} images in '{dirpath}'.\")"
      ]
    },
    {
      "cell_type": "markdown",
      "metadata": {
        "id": "2docX2FutRHv"
      },
      "source": [
        "**Let's take an example images from both train-parasitized and train-uninfected folders to observe process** "
      ]
    },
    {
      "cell_type": "code",
      "execution_count": 86,
      "metadata": {
        "id": "wUZcZtQWsl9I",
        "colab": {
          "base_uri": "https://localhost:8080/"
        },
        "outputId": "8bf05673-fbd3-41df-f07e-addfc68cf4c0"
      },
      "outputs": [
        {
          "output_type": "execute_result",
          "data": {
            "text/plain": [
              "['C133P94ThinF_IMG_20151004_153930_cell_107.png',\n",
              " 'C82P43ThinF_IMG_20150817_124418_cell_173.png',\n",
              " 'C182P143NThinF_IMG_20151201_172216_cell_129.png',\n",
              " 'C178P139NThinF_IMG_20151201_154254_cell_1.png',\n",
              " 'C91P52ThinF_IMG_20150821_123314_cell_193.png',\n",
              " 'C129P90ThinF_IMG_20151004_133703_cell_99.png',\n",
              " 'C67P28N_ThinF_IMG_20150819_121053_cell_236.png',\n",
              " 'C137P98ThinF_IMG_20151005_163218_cell_75.png',\n",
              " 'C153P114ThinF_IMG_20151115_135911_cell_250.png',\n",
              " 'C182P143NThinF_IMG_20151201_171905_cell_158.png']"
            ]
          },
          "metadata": {},
          "execution_count": 86
        }
      ],
      "source": [
        "os.listdir(train_path+'parasitized')[:10]  # top 10 images"
      ]
    },
    {
      "cell_type": "code",
      "execution_count": 87,
      "metadata": {
        "id": "90IdG6knsl9J",
        "colab": {
          "base_uri": "https://localhost:8080/",
          "height": 35
        },
        "outputId": "967c6fa8-f9a8-4df5-d5de-d1acccb23ff7"
      },
      "outputs": [
        {
          "output_type": "execute_result",
          "data": {
            "text/plain": [
              "'C129P90ThinF_IMG_20151004_133703_cell_99.png'"
            ],
            "application/vnd.google.colaboratory.intrinsic+json": {
              "type": "string"
            }
          },
          "metadata": {},
          "execution_count": 87
        }
      ],
      "source": [
        "os.listdir(train_path+'parasitized')[5]"
      ]
    },
    {
      "cell_type": "code",
      "execution_count": 88,
      "metadata": {
        "id": "rKvIiLAssl9J"
      },
      "outputs": [],
      "source": [
        "para_cell_path = train_path+'parasitized/'+os.listdir(train_path+'parasitized')[5]"
      ]
    },
    {
      "cell_type": "code",
      "execution_count": 89,
      "metadata": {
        "id": "L5V2hllmsl9J",
        "colab": {
          "base_uri": "https://localhost:8080/",
          "height": 35
        },
        "outputId": "dc7368e3-51ed-45cf-ad78-27c2ba006732"
      },
      "outputs": [
        {
          "output_type": "execute_result",
          "data": {
            "text/plain": [
              "'cell_images/train/parasitized/C129P90ThinF_IMG_20151004_133703_cell_99.png'"
            ],
            "application/vnd.google.colaboratory.intrinsic+json": {
              "type": "string"
            }
          },
          "metadata": {},
          "execution_count": 89
        }
      ],
      "source": [
        "para_cell_path"
      ]
    },
    {
      "cell_type": "code",
      "execution_count": 90,
      "metadata": {
        "id": "bgtb1aRfsl9K",
        "colab": {
          "base_uri": "https://localhost:8080/"
        },
        "outputId": "fca2904f-38ff-457e-fd47-ef7c28ac3a8f"
      },
      "outputs": [
        {
          "output_type": "execute_result",
          "data": {
            "text/plain": [
              "array([[[0., 0., 0.],\n",
              "        [0., 0., 0.],\n",
              "        [0., 0., 0.],\n",
              "        ...,\n",
              "        [0., 0., 0.],\n",
              "        [0., 0., 0.],\n",
              "        [0., 0., 0.]],\n",
              "\n",
              "       [[0., 0., 0.],\n",
              "        [0., 0., 0.],\n",
              "        [0., 0., 0.],\n",
              "        ...,\n",
              "        [0., 0., 0.],\n",
              "        [0., 0., 0.],\n",
              "        [0., 0., 0.]],\n",
              "\n",
              "       [[0., 0., 0.],\n",
              "        [0., 0., 0.],\n",
              "        [0., 0., 0.],\n",
              "        ...,\n",
              "        [0., 0., 0.],\n",
              "        [0., 0., 0.],\n",
              "        [0., 0., 0.]],\n",
              "\n",
              "       ...,\n",
              "\n",
              "       [[0., 0., 0.],\n",
              "        [0., 0., 0.],\n",
              "        [0., 0., 0.],\n",
              "        ...,\n",
              "        [0., 0., 0.],\n",
              "        [0., 0., 0.],\n",
              "        [0., 0., 0.]],\n",
              "\n",
              "       [[0., 0., 0.],\n",
              "        [0., 0., 0.],\n",
              "        [0., 0., 0.],\n",
              "        ...,\n",
              "        [0., 0., 0.],\n",
              "        [0., 0., 0.],\n",
              "        [0., 0., 0.]],\n",
              "\n",
              "       [[0., 0., 0.],\n",
              "        [0., 0., 0.],\n",
              "        [0., 0., 0.],\n",
              "        ...,\n",
              "        [0., 0., 0.],\n",
              "        [0., 0., 0.],\n",
              "        [0., 0., 0.]]], dtype=float32)"
            ]
          },
          "metadata": {},
          "execution_count": 90
        }
      ],
      "source": [
        "imread(para_cell_path)"
      ]
    },
    {
      "cell_type": "code",
      "execution_count": 91,
      "metadata": {
        "id": "GsObRYqksl9K"
      },
      "outputs": [],
      "source": [
        "para_cell= imread(para_cell_path)"
      ]
    },
    {
      "cell_type": "code",
      "execution_count": 92,
      "metadata": {
        "id": "7E8cwW2osl9K",
        "colab": {
          "base_uri": "https://localhost:8080/",
          "height": 377
        },
        "outputId": "6592e418-016c-4543-b751-048f22537b75"
      },
      "outputs": [
        {
          "output_type": "display_data",
          "data": {
            "text/plain": [
              "<Figure size 720x432 with 1 Axes>"
            ],
            "image/png": "[encoded data removed]"
          },
          "metadata": {}
        }
      ],
      "source": [
        "plt.imshow(para_cell);"
      ]
    },
    {
      "cell_type": "code",
      "execution_count": 93,
      "metadata": {
        "id": "XDpeTqBdsl9L",
        "colab": {
          "base_uri": "https://localhost:8080/"
        },
        "outputId": "725977b8-6d34-440e-c102-93aad2a0f25e"
      },
      "outputs": [
        {
          "output_type": "execute_result",
          "data": {
            "text/plain": [
              "(139, 136, 3)"
            ]
          },
          "metadata": {},
          "execution_count": 93
        }
      ],
      "source": [
        "para_cell.shape  # 139 x 136 and 3 channels"
      ]
    },
    {
      "cell_type": "code",
      "execution_count": 94,
      "metadata": {
        "id": "pj1xYpfksl9M",
        "colab": {
          "base_uri": "https://localhost:8080/"
        },
        "outputId": "f254c968-6313-4e6e-c11a-3dd81cccef91"
      },
      "outputs": [
        {
          "output_type": "execute_result",
          "data": {
            "text/plain": [
              "['C80P41ThinF_IMG_20150817_110834_cell_105.png',\n",
              " 'C120P81ThinF_IMG_20151002_130150_cell_120.png',\n",
              " 'C225ThinF_IMG_20151112_113836_cell_14.png',\n",
              " 'C58P19thinF_IMG_20150802_122520_cell_109.png',\n",
              " 'C7NthinF_IMG_20150611_104404_cell_199.png',\n",
              " 'C84P45ThinF_IMG_20150818_101257_cell_43.png',\n",
              " 'C181P142ThinF_IMG_20151127_160434_cell_28.png',\n",
              " 'C61P22N_ThinF_IMG_20150818_112252_cell_183.png',\n",
              " 'C125P86ThinF_IMG_20151004_102053_cell_83.png',\n",
              " 'C112P73ThinF_IMG_20150930_131401_cell_49.png']"
            ]
          },
          "metadata": {},
          "execution_count": 94
        }
      ],
      "source": [
        "os.listdir(train_path+'uninfected')[:10]"
      ]
    },
    {
      "cell_type": "code",
      "execution_count": 95,
      "metadata": {
        "id": "scyqIWQmsl9M"
      },
      "outputs": [],
      "source": [
        "uninfected_cell_path = train_path+'uninfected/'+os.listdir(train_path+'uninfected')[5]"
      ]
    },
    {
      "cell_type": "code",
      "execution_count": 96,
      "metadata": {
        "id": "8sac1keAsl9M",
        "colab": {
          "base_uri": "https://localhost:8080/"
        },
        "outputId": "689010eb-cfc7-4fae-c004-cb21d1a2a3a3"
      },
      "outputs": [
        {
          "output_type": "execute_result",
          "data": {
            "text/plain": [
              "array([[[0., 0., 0.],\n",
              "        [0., 0., 0.],\n",
              "        [0., 0., 0.],\n",
              "        ...,\n",
              "        [0., 0., 0.],\n",
              "        [0., 0., 0.],\n",
              "        [0., 0., 0.]],\n",
              "\n",
              "       [[0., 0., 0.],\n",
              "        [0., 0., 0.],\n",
              "        [0., 0., 0.],\n",
              "        ...,\n",
              "        [0., 0., 0.],\n",
              "        [0., 0., 0.],\n",
              "        [0., 0., 0.]],\n",
              "\n",
              "       [[0., 0., 0.],\n",
              "        [0., 0., 0.],\n",
              "        [0., 0., 0.],\n",
              "        ...,\n",
              "        [0., 0., 0.],\n",
              "        [0., 0., 0.],\n",
              "        [0., 0., 0.]],\n",
              "\n",
              "       ...,\n",
              "\n",
              "       [[0., 0., 0.],\n",
              "        [0., 0., 0.],\n",
              "        [0., 0., 0.],\n",
              "        ...,\n",
              "        [0., 0., 0.],\n",
              "        [0., 0., 0.],\n",
              "        [0., 0., 0.]],\n",
              "\n",
              "       [[0., 0., 0.],\n",
              "        [0., 0., 0.],\n",
              "        [0., 0., 0.],\n",
              "        ...,\n",
              "        [0., 0., 0.],\n",
              "        [0., 0., 0.],\n",
              "        [0., 0., 0.]],\n",
              "\n",
              "       [[0., 0., 0.],\n",
              "        [0., 0., 0.],\n",
              "        [0., 0., 0.],\n",
              "        ...,\n",
              "        [0., 0., 0.],\n",
              "        [0., 0., 0.],\n",
              "        [0., 0., 0.]]], dtype=float32)"
            ]
          },
          "metadata": {},
          "execution_count": 96
        }
      ],
      "source": [
        "imread(uninfected_cell_path)"
      ]
    },
    {
      "cell_type": "code",
      "execution_count": 97,
      "metadata": {
        "id": "GYQ6VT4Esl9N",
        "colab": {
          "base_uri": "https://localhost:8080/",
          "height": 376
        },
        "outputId": "df0b2b86-adea-4d2b-97ab-d54195b42cc5"
      },
      "outputs": [
        {
          "output_type": "display_data",
          "data": {
            "text/plain": [
              "<Figure size 720x432 with 1 Axes>"
            ],
            "image/png": "[encoded data removed]"
          },
          "metadata": {}
        }
      ],
      "source": [
        "#plt.imshow(imread(uninfected_cell_path));\n",
        "uninfected_cell = imread(uninfected_cell_path)\n",
        "plt.imshow(uninfected_cell);"
      ]
    },
    {
      "cell_type": "code",
      "execution_count": 98,
      "metadata": {
        "id": "GREBe_GIrZtp",
        "colab": {
          "base_uri": "https://localhost:8080/"
        },
        "outputId": "1747cffb-7d38-4df8-f387-a92e5c5f898a"
      },
      "outputs": [
        {
          "output_type": "execute_result",
          "data": {
            "text/plain": [
              "(97, 106, 3)"
            ]
          },
          "metadata": {},
          "execution_count": 98
        }
      ],
      "source": [
        "uninfected_cell.shape"
      ]
    },
    {
      "cell_type": "code",
      "execution_count": 99,
      "metadata": {
        "id": "E0jEJVskgsKG"
      },
      "outputs": [],
      "source": [
        "# View a random image\n",
        "import random\n",
        "\n",
        "def view_random_image(target_dir, target_class):\n",
        "  # Setup target directory (we'll view images from here)\n",
        "  target_folder = target_dir+target_class\n",
        "\n",
        "  # Get a random image path\n",
        "  random_image = random.sample(os.listdir(target_folder), 1)\n",
        "\n",
        "  # Read in the image and plot it using matplotlib\n",
        "  img = imread(target_folder + \"/\" + random_image[0])\n",
        "  plt.imshow(img)\n",
        "  plt.title(target_class)\n",
        "  plt.axis(\"off\");\n",
        "\n",
        "  print(f\"Image shape: {img.shape}\") # show the shape of the image\n",
        "\n",
        "  return img"
      ]
    },
    {
      "cell_type": "code",
      "execution_count": 100,
      "metadata": {
        "id": "khW2E0HmgsUe",
        "colab": {
          "base_uri": "https://localhost:8080/",
          "height": 390
        },
        "outputId": "f5c12089-f18b-4e5c-9466-c9bc9f39552e"
      },
      "outputs": [
        {
          "output_type": "stream",
          "name": "stdout",
          "text": [
            "Image shape: (118, 130, 3)\n"
          ]
        },
        {
          "output_type": "display_data",
          "data": {
            "text/plain": [
              "<Figure size 720x432 with 1 Axes>"
            ],
            "image/png": "[encoded data removed]"
          },
          "metadata": {}
        }
      ],
      "source": [
        "# View a random image from the training dataset\n",
        "img = view_random_image(target_dir=train_path,\n",
        "                        target_class=\"parasitized\")"
      ]
    },
    {
      "cell_type": "code",
      "execution_count": 101,
      "metadata": {
        "id": "BcEpw1GPgseo",
        "colab": {
          "base_uri": "https://localhost:8080/",
          "height": 390
        },
        "outputId": "5bf1af12-47af-4e14-98fb-2c9c69339b8a"
      },
      "outputs": [
        {
          "output_type": "stream",
          "name": "stdout",
          "text": [
            "Image shape: (133, 145, 3)\n"
          ]
        },
        {
          "output_type": "display_data",
          "data": {
            "text/plain": [
              "<Figure size 720x432 with 1 Axes>"
            ],
            "image/png": "[encoded data removed]"
          },
          "metadata": {}
        }
      ],
      "source": [
        "# View a random image from the training dataset\n",
        "img = view_random_image(target_dir=train_path,\n",
        "                        target_class=\"uninfected\")"
      ]
    },
    {
      "cell_type": "code",
      "execution_count": 102,
      "metadata": {
        "id": "KwuIL3FdAXlZ",
        "colab": {
          "base_uri": "https://localhost:8080/",
          "height": 390
        },
        "outputId": "6c17b647-de51-49bc-b0a4-dc0ffafdd382"
      },
      "outputs": [
        {
          "output_type": "stream",
          "name": "stdout",
          "text": [
            "Image shape: (130, 154, 3)\n"
          ]
        },
        {
          "output_type": "display_data",
          "data": {
            "text/plain": [
              "<Figure size 720x432 with 1 Axes>"
            ],
            "image/png": "[encoded data removed]"
          },
          "metadata": {}
        }
      ],
      "source": [
        "# View a random image from the training dataset\n",
        "import random\n",
        "img = view_random_image(target_dir=train_path,\n",
        "                        target_class=random.choice(class_names)) # get a random class name"
      ]
    },
    {
      "cell_type": "markdown",
      "metadata": {
        "id": "7qmejxHxsl9O"
      },
      "source": [
        "# Data Preprocessing"
      ]
    },
    {
      "cell_type": "markdown",
      "metadata": {
        "id": "LH--CKJ0sl9O"
      },
      "source": [
        "## Defining Input Shape"
      ]
    },
    {
      "cell_type": "markdown",
      "metadata": {
        "id": "FXz_fh0bsl9O"
      },
      "source": [
        "**Let's decide on the final dimension of these images.**"
      ]
    },
    {
      "cell_type": "code",
      "execution_count": 103,
      "metadata": {
        "id": "yedwAw8Jsl9P",
        "colab": {
          "base_uri": "https://localhost:8080/"
        },
        "outputId": "09d13201-1d15-401d-8768-09577dfaf718"
      },
      "outputs": [
        {
          "output_type": "execute_result",
          "data": {
            "text/plain": [
              "(97, 106, 3)"
            ]
          },
          "metadata": {},
          "execution_count": 103
        }
      ],
      "source": [
        "uninfected_cell.shape"
      ]
    },
    {
      "cell_type": "code",
      "execution_count": 104,
      "metadata": {
        "id": "zpfsabyPsl9P",
        "colab": {
          "base_uri": "https://localhost:8080/"
        },
        "outputId": "3ee16998-48a0-49cd-9bcd-2521f939d1c6"
      },
      "outputs": [
        {
          "output_type": "execute_result",
          "data": {
            "text/plain": [
              "(139, 136, 3)"
            ]
          },
          "metadata": {},
          "execution_count": 104
        }
      ],
      "source": [
        "para_cell.shape"
      ]
    },
    {
      "cell_type": "markdown",
      "metadata": {
        "cellView": "code",
        "id": "c1MICswflLpO",
        "outputId": "976efc35-690f-4c05-a758-e70d72df7d9e"
      },
      "source": [
        "x = []\n",
        "y = []\n",
        "\n",
        "for image in os.listdir(train_path+'uninfected'):\n",
        "    img = imread(train_path+'uninfected/'+image)\n",
        "    d1,d2,_ = img.shape\n",
        "    x.append(d1)\n",
        "    y.append(d2)"
      ]
    },
    {
      "cell_type": "code",
      "execution_count": 105,
      "metadata": {
        "id": "Cnndjp3hsl9Q"
      },
      "outputs": [],
      "source": [
        "x = [imread(train_path+'uninfected/'+image).shape[0] for image in os.listdir(train_path+'uninfected')] \n",
        "y = [imread(train_path+'uninfected/'+image).shape[1] for image in os.listdir(train_path+'uninfected')] "
      ]
    },
    {
      "cell_type": "code",
      "source": [
        "len(x)"
      ],
      "metadata": {
        "colab": {
          "base_uri": "https://localhost:8080/"
        },
        "id": "jR8OnuChTu01",
        "outputId": "87132c26-bbe4-4d1c-c672-aa7ce58efe33"
      },
      "execution_count": 106,
      "outputs": [
        {
          "output_type": "execute_result",
          "data": {
            "text/plain": [
              "12479"
            ]
          },
          "metadata": {},
          "execution_count": 106
        }
      ]
    },
    {
      "cell_type": "code",
      "execution_count": 107,
      "metadata": {
        "id": "I8coq5Crsl9R",
        "colab": {
          "base_uri": "https://localhost:8080/"
        },
        "outputId": "d135e304-2a7f-4da3-dc62-61c5fc6aeb3e"
      },
      "outputs": [
        {
          "output_type": "execute_result",
          "data": {
            "text/plain": [
              "[139, 121, 133, 130, 133]"
            ]
          },
          "metadata": {},
          "execution_count": 107
        }
      ],
      "source": [
        "x[:5]"
      ]
    },
    {
      "cell_type": "code",
      "execution_count": 108,
      "metadata": {
        "id": "RZ1WZ16Osl9R",
        "colab": {
          "base_uri": "https://localhost:8080/",
          "height": 429
        },
        "outputId": "cdf21b53-f593-451e-c85c-390ef376093c"
      },
      "outputs": [
        {
          "output_type": "stream",
          "name": "stderr",
          "text": [
            "/usr/local/lib/python3.8/dist-packages/seaborn/_decorators.py:36: FutureWarning: Pass the following variables as keyword args: x, y. From version 0.12, the only valid positional argument will be `data`, and passing other arguments without an explicit keyword will result in an error or misinterpretation.\n",
            "  warnings.warn(\n"
          ]
        },
        {
          "output_type": "display_data",
          "data": {
            "text/plain": [
              "<Figure size 720x432 with 1 Axes>"
            ],
            "image/png": "[encoded data removed]"
          },
          "metadata": {}
        }
      ],
      "source": [
        "sns.scatterplot(x,y);  # distribution of shape of images"
      ]
    },
    {
      "cell_type": "code",
      "execution_count": 109,
      "metadata": {
        "id": "CE2dIZyesl9R",
        "colab": {
          "base_uri": "https://localhost:8080/"
        },
        "outputId": "7c7931e1-0cc9-4f91-c76c-e86e81932381"
      },
      "outputs": [
        {
          "output_type": "execute_result",
          "data": {
            "text/plain": [
              "(131.64820899110507, 130.0)"
            ]
          },
          "metadata": {},
          "execution_count": 109
        }
      ],
      "source": [
        "# checking mean and median of x, that is, rows\n",
        "np.mean(x), np.median(x)"
      ]
    },
    {
      "cell_type": "code",
      "execution_count": 110,
      "metadata": {
        "id": "j-hPSXm7sl9R",
        "colab": {
          "base_uri": "https://localhost:8080/"
        },
        "outputId": "d47c189d-b8dc-4dbb-8b24-1e46576b1033"
      },
      "outputs": [
        {
          "output_type": "execute_result",
          "data": {
            "text/plain": [
              "(131.4041990544114, 130.0)"
            ]
          },
          "metadata": {},
          "execution_count": 110
        }
      ],
      "source": [
        "# checking mean and median of y, that is, columns\n",
        "np.mean(y), np.median(y)"
      ]
    },
    {
      "cell_type": "code",
      "execution_count": 111,
      "metadata": {
        "id": "XZipjtXssl9S"
      },
      "outputs": [],
      "source": [
        "# Identifying the shape of all images\n",
        "image_shape = (130,130,3)"
      ]
    },
    {
      "cell_type": "markdown",
      "metadata": {
        "id": "nzfQWmOxsl9S"
      },
      "source": [
        "## Scaling"
      ]
    },
    {
      "cell_type": "markdown",
      "metadata": {
        "id": "mKfeQeWbsl9S"
      },
      "source": [
        "**Let's check the images if they are needed to be scaled or not**"
      ]
    },
    {
      "cell_type": "code",
      "execution_count": 112,
      "metadata": {
        "id": "Wh48Bd-1sl9S",
        "colab": {
          "base_uri": "https://localhost:8080/"
        },
        "outputId": "6ec85875-f978-4f00-8904-10ab57011bf5"
      },
      "outputs": [
        {
          "output_type": "execute_result",
          "data": {
            "text/plain": [
              "(0.0, 0.8745098)"
            ]
          },
          "metadata": {},
          "execution_count": 112
        }
      ],
      "source": [
        "uninfected_cell.min(), uninfected_cell.max()"
      ]
    },
    {
      "cell_type": "code",
      "execution_count": 113,
      "metadata": {
        "id": "X4lGP4Essl9S",
        "colab": {
          "base_uri": "https://localhost:8080/"
        },
        "outputId": "c7d95383-297e-42c6-f7d0-68ab95ed986f"
      },
      "outputs": [
        {
          "output_type": "execute_result",
          "data": {
            "text/plain": [
              "(0.0, 0.8862745)"
            ]
          },
          "metadata": {},
          "execution_count": 113
        }
      ],
      "source": [
        "para_cell.min(),para_cell.max()"
      ]
    },
    {
      "cell_type": "markdown",
      "metadata": {
        "id": "o-rpBt-ysl9S"
      },
      "source": [
        "As we see above, all images have been already scaled"
      ]
    },
    {
      "cell_type": "markdown",
      "metadata": {
        "id": "wwoyEQxasl9T"
      },
      "source": [
        "## Image Data Generator"
      ]
    },
    {
      "cell_type": "markdown",
      "metadata": {
        "id": "rMtI4ruOtZBS"
      },
      "source": [
        "**Image Manipulation**\n",
        "\n",
        "We can use the ImageDataGenerator to manipulate the images with rotation, resizing, and scaling so the model becomes more robust to different images that our data set doesn't have.\n",
        "\n",
        "ImageDataGenerator does the followings.\n",
        "\n",
        "* Accepts a batch of images used for training.\n",
        "* Applies a series of random transformations to each image in the batch.\n",
        "* Replaces the original batch with randomly transformed batch.\n",
        "* Training the CNN on this randomly transformed batch.\n",
        "\n",
        "The goal of applying data augmentation is to have a more generalized model.\n",
        "\n",
        "Data augmentation is a way to try and prevent a model overfitting. If your model is overfiting (e.g. the validation loss keeps increasing), you may want to try using data augmentation."
      ]
    },
    {
      "cell_type": "code",
      "execution_count": 114,
      "metadata": {
        "id": "PvfAR41Isl9T"
      },
      "outputs": [],
      "source": [
        "from tensorflow.keras.preprocessing.image import ImageDataGenerator"
      ]
    },
    {
      "cell_type": "code",
      "execution_count": null,
      "metadata": {
        "id": "-R0eYE5esl9T"
      },
      "outputs": [],
      "source": [
        "# help(ImageDataGenerator)"
      ]
    },
    {
      "cell_type": "code",
      "execution_count": 115,
      "metadata": {
        "id": "CG7aykrysl9T"
      },
      "outputs": [],
      "source": [
        "image_gen = ImageDataGenerator(rotation_range=15, \n",
        "                               width_shift_range=0.10, \n",
        "                               height_shift_range=0.10, \n",
        "                               #rescale=1/255, \n",
        "                               shear_range=0.1, \n",
        "                               zoom_range=0.1, \n",
        "                               horizontal_flip=True, \n",
        "                               fill_mode='nearest')"
      ]
    },
    {
      "cell_type": "code",
      "execution_count": 116,
      "metadata": {
        "id": "hYjJqytGsl9T",
        "colab": {
          "base_uri": "https://localhost:8080/",
          "height": 377
        },
        "outputId": "be08ce91-a9d7-4a6e-f29a-fe83c2085ca2"
      },
      "outputs": [
        {
          "output_type": "display_data",
          "data": {
            "text/plain": [
              "<Figure size 720x432 with 1 Axes>"
            ],
            "image/png": "[encoded data removed]"
          },
          "metadata": {}
        }
      ],
      "source": [
        "plt.imshow(para_cell);"
      ]
    },
    {
      "cell_type": "code",
      "execution_count": 117,
      "metadata": {
        "id": "EkKJrYeFsl9T",
        "colab": {
          "base_uri": "https://localhost:8080/",
          "height": 377
        },
        "outputId": "62e7cdb6-7a33-4a10-f138-c08af25e57c5"
      },
      "outputs": [
        {
          "output_type": "display_data",
          "data": {
            "text/plain": [
              "<Figure size 720x432 with 1 Axes>"
            ],
            "image/png": "[encoded data removed]"
          },
          "metadata": {}
        }
      ],
      "source": [
        "plt.imshow(image_gen.random_transform(para_cell));"
      ]
    },
    {
      "cell_type": "markdown",
      "metadata": {
        "id": "NXTR3CIv0qm1"
      },
      "source": [
        "### Taking the path to a directory & Generating batches of augmented data\n",
        "\n",
        "flow_from_directory function works with images organized in sub-directories. Your directories should include only one class of images, so one folder per class of images."
      ]
    },
    {
      "cell_type": "code",
      "execution_count": null,
      "metadata": {
        "id": "7_KXVvrtsl9U"
      },
      "outputs": [],
      "source": [
        "#help(image_gen.flow_from_directory)\n",
        "#Takes the path to a directory & generates batches of augmented data."
      ]
    },
    {
      "cell_type": "code",
      "execution_count": 118,
      "metadata": {
        "id": "gg7R9FNEsl9U",
        "colab": {
          "base_uri": "https://localhost:8080/"
        },
        "outputId": "6b3d94cc-9852-43d9-b6b7-2acf2e39383f"
      },
      "outputs": [
        {
          "output_type": "stream",
          "name": "stdout",
          "text": [
            "Found 24958 images belonging to 2 classes.\n"
          ]
        },
        {
          "output_type": "execute_result",
          "data": {
            "text/plain": [
              "<keras.preprocessing.image.DirectoryIterator at 0x7f6eba28c850>"
            ]
          },
          "metadata": {},
          "execution_count": 118
        }
      ],
      "source": [
        "image_gen.flow_from_directory(train_path)"
      ]
    },
    {
      "cell_type": "code",
      "execution_count": 119,
      "metadata": {
        "id": "lDqfD0mUsl9U",
        "colab": {
          "base_uri": "https://localhost:8080/"
        },
        "outputId": "c7d08334-f54d-4c0e-e38e-d72274c5b104"
      },
      "outputs": [
        {
          "output_type": "stream",
          "name": "stdout",
          "text": [
            "Found 2600 images belonging to 2 classes.\n"
          ]
        },
        {
          "output_type": "execute_result",
          "data": {
            "text/plain": [
              "<keras.preprocessing.image.DirectoryIterator at 0x7f6eba28c460>"
            ]
          },
          "metadata": {},
          "execution_count": 119
        }
      ],
      "source": [
        "image_gen.flow_from_directory(test_path)"
      ]
    },
    {
      "cell_type": "code",
      "execution_count": 120,
      "metadata": {
        "id": "uh3j7j6_00ch"
      },
      "outputs": [],
      "source": [
        "batch_size = 32"
      ]
    },
    {
      "cell_type": "code",
      "source": [
        "image_shape"
      ],
      "metadata": {
        "id": "c8ELVwKrM0jy",
        "colab": {
          "base_uri": "https://localhost:8080/"
        },
        "outputId": "8d5be53c-4956-4127-b4bb-b40357b36a4f"
      },
      "execution_count": 128,
      "outputs": [
        {
          "output_type": "execute_result",
          "data": {
            "text/plain": [
              "(130, 130, 3)"
            ]
          },
          "metadata": {},
          "execution_count": 128
        }
      ]
    },
    {
      "cell_type": "code",
      "execution_count": 123,
      "metadata": {
        "id": "gV4T5jcwsl9U",
        "colab": {
          "base_uri": "https://localhost:8080/"
        },
        "outputId": "76f86765-5e0f-4a61-97e0-85954d1a2577"
      },
      "outputs": [
        {
          "output_type": "stream",
          "name": "stdout",
          "text": [
            "Found 24958 images belonging to 2 classes.\n"
          ]
        }
      ],
      "source": [
        "train_image_gen = image_gen.flow_from_directory(directory=train_path,\n",
        "                                                target_size=image_shape[:2],\n",
        "                                                color_mode='rgb',\n",
        "                                                batch_size=batch_size,\n",
        "                                                class_mode='binary',\n",
        "                                                shuffle=True)  # shuffle işlem yaparken datayı sürekli kar. aynı sırayla gelince ezberlemeye meyli oluyor. farklı sırada gelince genellemesi daha iyi olur."
      ]
    },
    {
      "cell_type": "code",
      "source": [
        "len(os.listdir(train_path+'parasitized')), len(os.listdir(train_path+'uninfected'))"
      ],
      "metadata": {
        "colab": {
          "base_uri": "https://localhost:8080/"
        },
        "id": "UC3l35J3h6La",
        "outputId": "d1797aa1-78f9-4110-9bcb-292318695a9e"
      },
      "execution_count": 124,
      "outputs": [
        {
          "output_type": "execute_result",
          "data": {
            "text/plain": [
              "(12479, 12479)"
            ]
          },
          "metadata": {},
          "execution_count": 124
        }
      ]
    },
    {
      "cell_type": "code",
      "execution_count": 126,
      "metadata": {
        "id": "KbbqrT2Asl9U",
        "colab": {
          "base_uri": "https://localhost:8080/"
        },
        "outputId": "aaa56259-7a49-4f71-9f71-532164930a67"
      },
      "outputs": [
        {
          "output_type": "stream",
          "name": "stdout",
          "text": [
            "Found 2600 images belonging to 2 classes.\n"
          ]
        }
      ],
      "source": [
        "test_image_gen = image_gen.flow_from_directory(directory=test_path,\n",
        "                                               target_size=image_shape[:2],\n",
        "                                               color_mode='rgb',\n",
        "                                               batch_size=batch_size,\n",
        "                                               class_mode='binary',\n",
        "                                               shuffle=False)\n",
        "# Burada shuffle ı False almamızın sebebi, prediction yaparken y_test, y_pred i karşılaştıramayız. Yani evaluation da sorun yaşarız."
      ]
    },
    {
      "cell_type": "code",
      "source": [
        "len(os.listdir(test_path+'parasitized')), len(os.listdir(test_path+'uninfected'))"
      ],
      "metadata": {
        "colab": {
          "base_uri": "https://localhost:8080/"
        },
        "id": "ktm8tBh5iAWe",
        "outputId": "a085dc03-a21c-4aa5-f1ef-68a6a8b4ab5d"
      },
      "execution_count": 125,
      "outputs": [
        {
          "output_type": "execute_result",
          "data": {
            "text/plain": [
              "(1300, 1300)"
            ]
          },
          "metadata": {},
          "execution_count": 125
        }
      ]
    },
    {
      "cell_type": "code",
      "execution_count": 129,
      "metadata": {
        "id": "efxzYhpisl9V",
        "colab": {
          "base_uri": "https://localhost:8080/"
        },
        "outputId": "8b4d58d2-c204-4b57-a4b5-a100b1aa1446"
      },
      "outputs": [
        {
          "output_type": "execute_result",
          "data": {
            "text/plain": [
              "{'parasitized': 0, 'uninfected': 1}"
            ]
          },
          "metadata": {},
          "execution_count": 129
        }
      ],
      "source": [
        "train_image_gen.class_indices"
      ]
    },
    {
      "cell_type": "code",
      "execution_count": 131,
      "metadata": {
        "id": "eE82-YIQUHtE",
        "colab": {
          "base_uri": "https://localhost:8080/"
        },
        "outputId": "fb819a58-4214-477c-83a9-08ab4fc95721"
      },
      "outputs": [
        {
          "output_type": "execute_result",
          "data": {
            "text/plain": [
              "{'parasitized': 0, 'uninfected': 1}"
            ]
          },
          "metadata": {},
          "execution_count": 131
        }
      ],
      "source": [
        "test_image_gen.class_indices"
      ]
    },
    {
      "cell_type": "code",
      "execution_count": 132,
      "metadata": {
        "id": "B5r91T4hsl9V",
        "colab": {
          "base_uri": "https://localhost:8080/"
        },
        "outputId": "f988872c-3458-4ec5-d135-5059d658642b"
      },
      "outputs": [
        {
          "output_type": "execute_result",
          "data": {
            "text/plain": [
              "(array([[[[0., 0., 0.],\n",
              "          [0., 0., 0.],\n",
              "          [0., 0., 0.],\n",
              "          ...,\n",
              "          [0., 0., 0.],\n",
              "          [0., 0., 0.],\n",
              "          [0., 0., 0.]],\n",
              " \n",
              "         [[0., 0., 0.],\n",
              "          [0., 0., 0.],\n",
              "          [0., 0., 0.],\n",
              "          ...,\n",
              "          [0., 0., 0.],\n",
              "          [0., 0., 0.],\n",
              "          [0., 0., 0.]],\n",
              " \n",
              "         [[0., 0., 0.],\n",
              "          [0., 0., 0.],\n",
              "          [0., 0., 0.],\n",
              "          ...,\n",
              "          [0., 0., 0.],\n",
              "          [0., 0., 0.],\n",
              "          [0., 0., 0.]],\n",
              " \n",
              "         ...,\n",
              " \n",
              "         [[0., 0., 0.],\n",
              "          [0., 0., 0.],\n",
              "          [0., 0., 0.],\n",
              "          ...,\n",
              "          [0., 0., 0.],\n",
              "          [0., 0., 0.],\n",
              "          [0., 0., 0.]],\n",
              " \n",
              "         [[0., 0., 0.],\n",
              "          [0., 0., 0.],\n",
              "          [0., 0., 0.],\n",
              "          ...,\n",
              "          [0., 0., 0.],\n",
              "          [0., 0., 0.],\n",
              "          [0., 0., 0.]],\n",
              " \n",
              "         [[0., 0., 0.],\n",
              "          [0., 0., 0.],\n",
              "          [0., 0., 0.],\n",
              "          ...,\n",
              "          [0., 0., 0.],\n",
              "          [0., 0., 0.],\n",
              "          [0., 0., 0.]]],\n",
              " \n",
              " \n",
              "        [[[0., 0., 0.],\n",
              "          [0., 0., 0.],\n",
              "          [0., 0., 0.],\n",
              "          ...,\n",
              "          [0., 0., 0.],\n",
              "          [0., 0., 0.],\n",
              "          [0., 0., 0.]],\n",
              " \n",
              "         [[0., 0., 0.],\n",
              "          [0., 0., 0.],\n",
              "          [0., 0., 0.],\n",
              "          ...,\n",
              "          [0., 0., 0.],\n",
              "          [0., 0., 0.],\n",
              "          [0., 0., 0.]],\n",
              " \n",
              "         [[0., 0., 0.],\n",
              "          [0., 0., 0.],\n",
              "          [0., 0., 0.],\n",
              "          ...,\n",
              "          [0., 0., 0.],\n",
              "          [0., 0., 0.],\n",
              "          [0., 0., 0.]],\n",
              " \n",
              "         ...,\n",
              " \n",
              "         [[0., 0., 0.],\n",
              "          [0., 0., 0.],\n",
              "          [0., 0., 0.],\n",
              "          ...,\n",
              "          [0., 0., 0.],\n",
              "          [0., 0., 0.],\n",
              "          [0., 0., 0.]],\n",
              " \n",
              "         [[0., 0., 0.],\n",
              "          [0., 0., 0.],\n",
              "          [0., 0., 0.],\n",
              "          ...,\n",
              "          [0., 0., 0.],\n",
              "          [0., 0., 0.],\n",
              "          [0., 0., 0.]],\n",
              " \n",
              "         [[0., 0., 0.],\n",
              "          [0., 0., 0.],\n",
              "          [0., 0., 0.],\n",
              "          ...,\n",
              "          [0., 0., 0.],\n",
              "          [0., 0., 0.],\n",
              "          [0., 0., 0.]]],\n",
              " \n",
              " \n",
              "        [[[0., 0., 0.],\n",
              "          [0., 0., 0.],\n",
              "          [0., 0., 0.],\n",
              "          ...,\n",
              "          [0., 0., 0.],\n",
              "          [0., 0., 0.],\n",
              "          [0., 0., 0.]],\n",
              " \n",
              "         [[0., 0., 0.],\n",
              "          [0., 0., 0.],\n",
              "          [0., 0., 0.],\n",
              "          ...,\n",
              "          [0., 0., 0.],\n",
              "          [0., 0., 0.],\n",
              "          [0., 0., 0.]],\n",
              " \n",
              "         [[0., 0., 0.],\n",
              "          [0., 0., 0.],\n",
              "          [0., 0., 0.],\n",
              "          ...,\n",
              "          [0., 0., 0.],\n",
              "          [0., 0., 0.],\n",
              "          [0., 0., 0.]],\n",
              " \n",
              "         ...,\n",
              " \n",
              "         [[0., 0., 0.],\n",
              "          [0., 0., 0.],\n",
              "          [0., 0., 0.],\n",
              "          ...,\n",
              "          [0., 0., 0.],\n",
              "          [0., 0., 0.],\n",
              "          [0., 0., 0.]],\n",
              " \n",
              "         [[0., 0., 0.],\n",
              "          [0., 0., 0.],\n",
              "          [0., 0., 0.],\n",
              "          ...,\n",
              "          [0., 0., 0.],\n",
              "          [0., 0., 0.],\n",
              "          [0., 0., 0.]],\n",
              " \n",
              "         [[0., 0., 0.],\n",
              "          [0., 0., 0.],\n",
              "          [0., 0., 0.],\n",
              "          ...,\n",
              "          [0., 0., 0.],\n",
              "          [0., 0., 0.],\n",
              "          [0., 0., 0.]]],\n",
              " \n",
              " \n",
              "        ...,\n",
              " \n",
              " \n",
              "        [[[0., 0., 0.],\n",
              "          [0., 0., 0.],\n",
              "          [0., 0., 0.],\n",
              "          ...,\n",
              "          [0., 0., 0.],\n",
              "          [0., 0., 0.],\n",
              "          [0., 0., 0.]],\n",
              " \n",
              "         [[0., 0., 0.],\n",
              "          [0., 0., 0.],\n",
              "          [0., 0., 0.],\n",
              "          ...,\n",
              "          [0., 0., 0.],\n",
              "          [0., 0., 0.],\n",
              "          [0., 0., 0.]],\n",
              " \n",
              "         [[0., 0., 0.],\n",
              "          [0., 0., 0.],\n",
              "          [0., 0., 0.],\n",
              "          ...,\n",
              "          [0., 0., 0.],\n",
              "          [0., 0., 0.],\n",
              "          [0., 0., 0.]],\n",
              " \n",
              "         ...,\n",
              " \n",
              "         [[0., 0., 0.],\n",
              "          [0., 0., 0.],\n",
              "          [0., 0., 0.],\n",
              "          ...,\n",
              "          [0., 0., 0.],\n",
              "          [0., 0., 0.],\n",
              "          [0., 0., 0.]],\n",
              " \n",
              "         [[0., 0., 0.],\n",
              "          [0., 0., 0.],\n",
              "          [0., 0., 0.],\n",
              "          ...,\n",
              "          [0., 0., 0.],\n",
              "          [0., 0., 0.],\n",
              "          [0., 0., 0.]],\n",
              " \n",
              "         [[0., 0., 0.],\n",
              "          [0., 0., 0.],\n",
              "          [0., 0., 0.],\n",
              "          ...,\n",
              "          [0., 0., 0.],\n",
              "          [0., 0., 0.],\n",
              "          [0., 0., 0.]]],\n",
              " \n",
              " \n",
              "        [[[0., 0., 0.],\n",
              "          [0., 0., 0.],\n",
              "          [0., 0., 0.],\n",
              "          ...,\n",
              "          [0., 0., 0.],\n",
              "          [0., 0., 0.],\n",
              "          [0., 0., 0.]],\n",
              " \n",
              "         [[0., 0., 0.],\n",
              "          [0., 0., 0.],\n",
              "          [0., 0., 0.],\n",
              "          ...,\n",
              "          [0., 0., 0.],\n",
              "          [0., 0., 0.],\n",
              "          [0., 0., 0.]],\n",
              " \n",
              "         [[0., 0., 0.],\n",
              "          [0., 0., 0.],\n",
              "          [0., 0., 0.],\n",
              "          ...,\n",
              "          [0., 0., 0.],\n",
              "          [0., 0., 0.],\n",
              "          [0., 0., 0.]],\n",
              " \n",
              "         ...,\n",
              " \n",
              "         [[0., 0., 0.],\n",
              "          [0., 0., 0.],\n",
              "          [0., 0., 0.],\n",
              "          ...,\n",
              "          [0., 0., 0.],\n",
              "          [0., 0., 0.],\n",
              "          [0., 0., 0.]],\n",
              " \n",
              "         [[0., 0., 0.],\n",
              "          [0., 0., 0.],\n",
              "          [0., 0., 0.],\n",
              "          ...,\n",
              "          [0., 0., 0.],\n",
              "          [0., 0., 0.],\n",
              "          [0., 0., 0.]],\n",
              " \n",
              "         [[0., 0., 0.],\n",
              "          [0., 0., 0.],\n",
              "          [0., 0., 0.],\n",
              "          ...,\n",
              "          [0., 0., 0.],\n",
              "          [0., 0., 0.],\n",
              "          [0., 0., 0.]]],\n",
              " \n",
              " \n",
              "        [[[0., 0., 0.],\n",
              "          [0., 0., 0.],\n",
              "          [0., 0., 0.],\n",
              "          ...,\n",
              "          [0., 0., 0.],\n",
              "          [0., 0., 0.],\n",
              "          [0., 0., 0.]],\n",
              " \n",
              "         [[0., 0., 0.],\n",
              "          [0., 0., 0.],\n",
              "          [0., 0., 0.],\n",
              "          ...,\n",
              "          [0., 0., 0.],\n",
              "          [0., 0., 0.],\n",
              "          [0., 0., 0.]],\n",
              " \n",
              "         [[0., 0., 0.],\n",
              "          [0., 0., 0.],\n",
              "          [0., 0., 0.],\n",
              "          ...,\n",
              "          [0., 0., 0.],\n",
              "          [0., 0., 0.],\n",
              "          [0., 0., 0.]],\n",
              " \n",
              "         ...,\n",
              " \n",
              "         [[0., 0., 0.],\n",
              "          [0., 0., 0.],\n",
              "          [0., 0., 0.],\n",
              "          ...,\n",
              "          [0., 0., 0.],\n",
              "          [0., 0., 0.],\n",
              "          [0., 0., 0.]],\n",
              " \n",
              "         [[0., 0., 0.],\n",
              "          [0., 0., 0.],\n",
              "          [0., 0., 0.],\n",
              "          ...,\n",
              "          [0., 0., 0.],\n",
              "          [0., 0., 0.],\n",
              "          [0., 0., 0.]],\n",
              " \n",
              "         [[0., 0., 0.],\n",
              "          [0., 0., 0.],\n",
              "          [0., 0., 0.],\n",
              "          ...,\n",
              "          [0., 0., 0.],\n",
              "          [0., 0., 0.],\n",
              "          [0., 0., 0.]]]], dtype=float32),\n",
              " array([1., 1., 0., 1., 1., 0., 1., 1., 0., 0., 0., 0., 0., 1., 0., 0., 1.,\n",
              "        0., 1., 1., 0., 0., 0., 0., 1., 0., 0., 1., 1., 1., 1., 0.],\n",
              "       dtype=float32))"
            ]
          },
          "metadata": {},
          "execution_count": 132
        }
      ],
      "source": [
        "train_image_gen[0]"
      ]
    },
    {
      "cell_type": "code",
      "execution_count": 133,
      "metadata": {
        "id": "g_tNsaxlsl9V",
        "colab": {
          "base_uri": "https://localhost:8080/"
        },
        "outputId": "5a857ae8-0fef-4d00-986c-34fe004146b5"
      },
      "outputs": [
        {
          "output_type": "execute_result",
          "data": {
            "text/plain": [
              "(32, 130, 130, 3)"
            ]
          },
          "metadata": {},
          "execution_count": 133
        }
      ],
      "source": [
        "train_image_gen[0][0].shape"
      ]
    },
    {
      "cell_type": "code",
      "execution_count": 134,
      "metadata": {
        "id": "w08Vuz9y88iG",
        "colab": {
          "base_uri": "https://localhost:8080/"
        },
        "outputId": "37b8c7fc-f025-4a51-f054-1db37964c220"
      },
      "outputs": [
        {
          "output_type": "execute_result",
          "data": {
            "text/plain": [
              "(130, 130, 3)"
            ]
          },
          "metadata": {},
          "execution_count": 134
        }
      ],
      "source": [
        "train_image_gen[0][0][0].shape"
      ]
    },
    {
      "cell_type": "code",
      "execution_count": 136,
      "metadata": {
        "id": "kBX9wMYasl9V",
        "colab": {
          "base_uri": "https://localhost:8080/"
        },
        "outputId": "104a0f9a-d38b-466c-d649-fcac83548d8b"
      },
      "outputs": [
        {
          "output_type": "execute_result",
          "data": {
            "text/plain": [
              "(780, 82)"
            ]
          },
          "metadata": {},
          "execution_count": 136
        }
      ],
      "source": [
        "len(train_image_gen), len(test_image_gen)"
      ]
    },
    {
      "cell_type": "code",
      "execution_count": 137,
      "metadata": {
        "id": "aS4Gj8PGsl9V",
        "colab": {
          "base_uri": "https://localhost:8080/"
        },
        "outputId": "f5e92776-892c-4feb-fd76-f5855d301a7c"
      },
      "outputs": [
        {
          "output_type": "execute_result",
          "data": {
            "text/plain": [
              "(24960, 2624)"
            ]
          },
          "metadata": {},
          "execution_count": 137
        }
      ],
      "source": [
        "len(train_image_gen)*batch_size, len(test_image_gen)*batch_size "
      ]
    },
    {
      "cell_type": "code",
      "execution_count": 138,
      "metadata": {
        "id": "ZkqN1GrZ8QSs",
        "colab": {
          "base_uri": "https://localhost:8080/"
        },
        "outputId": "8ab896f1-7bab-465e-a042-d4f2c995a0ce"
      },
      "outputs": [
        {
          "output_type": "execute_result",
          "data": {
            "text/plain": [
              "(32, 32)"
            ]
          },
          "metadata": {},
          "execution_count": 138
        }
      ],
      "source": [
        "# Get a sample of the training data batch \n",
        "images, labels = train_image_gen.next() # get the 'next' batch of images/labels\n",
        "len(images), len(labels)"
      ]
    },
    {
      "cell_type": "code",
      "execution_count": 139,
      "metadata": {
        "id": "7UDSmH8F8aBH",
        "colab": {
          "base_uri": "https://localhost:8080/"
        },
        "outputId": "a93ccf4c-3595-4e66-f81c-2e38e1d3b8cd"
      },
      "outputs": [
        {
          "output_type": "execute_result",
          "data": {
            "text/plain": [
              "(32, 32)"
            ]
          },
          "metadata": {},
          "execution_count": 139
        }
      ],
      "source": [
        "# Get a sample of the testing data batch \n",
        "images, labels = test_image_gen.next() # get the 'next' batch of images/labels\n",
        "len(images), len(labels)"
      ]
    },
    {
      "cell_type": "markdown",
      "metadata": {
        "id": "McnEpbpKsl9W"
      },
      "source": [
        "# Modelling-1"
      ]
    },
    {
      "cell_type": "code",
      "execution_count": 141,
      "metadata": {
        "id": "_4wdkY_Csl9W"
      },
      "outputs": [],
      "source": [
        "from tensorflow.keras.models import Sequential\n",
        "from tensorflow.keras.layers import Activation, Dropout, Flatten, Dense, Conv2D, MaxPooling2D\n",
        "from tensorflow.keras.callbacks import EarlyStopping"
      ]
    },
    {
      "cell_type": "code",
      "execution_count": 142,
      "metadata": {
        "id": "CQzvmjcEsl9W"
      },
      "outputs": [],
      "source": [
        "model1 = Sequential()\n",
        "\n",
        "model1.add(Conv2D(filters=32, kernel_size=(3,3), input_shape=image_shape, activation='relu'))\n",
        "model1.add(MaxPooling2D(pool_size=(2, 2)))\n",
        "\n",
        "model1.add(Conv2D(filters=64, kernel_size=(3,3), activation='relu'))\n",
        "model1.add(MaxPooling2D(pool_size=(2, 2)))\n",
        "\n",
        "model1.add(Conv2D(filters=64, kernel_size=(3,3), activation='relu'))\n",
        "model1.add(MaxPooling2D(pool_size=(2, 2)))\n",
        "\n",
        "\n",
        "model1.add(Flatten())\n",
        "\n",
        "\n",
        "model1.add(Dense(128))\n",
        "model1.add(Activation('relu'))\n",
        "model1.add(Dropout(0.5))\n",
        "\n",
        "model1.add(Dense(1))\n",
        "model1.add(Activation('sigmoid'))\n",
        "\n",
        "# optimizer = keras.optimizers.Adam(lr=0.001)\n",
        "model1.compile(loss='binary_crossentropy',\n",
        "              optimizer='adam',\n",
        "              metrics=['accuracy'])"
      ]
    },
    {
      "cell_type": "code",
      "execution_count": 143,
      "metadata": {
        "id": "MHI3EEvXsl9W",
        "colab": {
          "base_uri": "https://localhost:8080/"
        },
        "outputId": "fd37ac09-3e47-4f67-d290-dc25666f1ca8"
      },
      "outputs": [
        {
          "output_type": "stream",
          "name": "stdout",
          "text": [
            "Model: \"sequential\"\n",
            "_________________________________________________________________\n",
            " Layer (type)                Output Shape              Param #   \n",
            "=================================================================\n",
            " conv2d (Conv2D)             (None, 128, 128, 32)      896       \n",
            "                                                                 \n",
            " max_pooling2d (MaxPooling2D  (None, 64, 64, 32)       0         \n",
            " )                                                               \n",
            "                                                                 \n",
            " conv2d_1 (Conv2D)           (None, 62, 62, 64)        18496     \n",
            "                                                                 \n",
            " max_pooling2d_1 (MaxPooling  (None, 31, 31, 64)       0         \n",
            " 2D)                                                             \n",
            "                                                                 \n",
            " conv2d_2 (Conv2D)           (None, 29, 29, 64)        36928     \n",
            "                                                                 \n",
            " max_pooling2d_2 (MaxPooling  (None, 14, 14, 64)       0         \n",
            " 2D)                                                             \n",
            "                                                                 \n",
            " flatten (Flatten)           (None, 12544)             0         \n",
            "                                                                 \n",
            " dense (Dense)               (None, 128)               1605760   \n",
            "                                                                 \n",
            " activation (Activation)     (None, 128)               0         \n",
            "                                                                 \n",
            " dropout (Dropout)           (None, 128)               0         \n",
            "                                                                 \n",
            " dense_1 (Dense)             (None, 1)                 129       \n",
            "                                                                 \n",
            " activation_1 (Activation)   (None, 1)                 0         \n",
            "                                                                 \n",
            "=================================================================\n",
            "Total params: 1,662,209\n",
            "Trainable params: 1,662,209\n",
            "Non-trainable params: 0\n",
            "_________________________________________________________________\n"
          ]
        }
      ],
      "source": [
        "model1.summary()"
      ]
    },
    {
      "cell_type": "code",
      "execution_count": 144,
      "metadata": {
        "id": "MQEe7W01sl9W"
      },
      "outputs": [],
      "source": [
        "early_stop = EarlyStopping(monitor='val_loss', patience=2, restore_best_weights = True)"
      ]
    },
    {
      "cell_type": "code",
      "execution_count": 145,
      "metadata": {
        "id": "ptJFzuyvsl9X",
        "scrolled": true,
        "colab": {
          "base_uri": "https://localhost:8080/"
        },
        "outputId": "ac1fac78-620b-4075-cc6b-1eec8486eeb6"
      },
      "outputs": [
        {
          "output_type": "stream",
          "name": "stdout",
          "text": [
            "Epoch 1/10\n",
            "780/780 [==============================] - 141s 171ms/step - loss: 1.2082 - accuracy: 0.5566 - val_loss: 0.6771 - val_accuracy: 0.5923\n",
            "Epoch 2/10\n",
            "780/780 [==============================] - 130s 167ms/step - loss: 0.6777 - accuracy: 0.5822 - val_loss: 0.7233 - val_accuracy: 0.5562\n",
            "Epoch 3/10\n",
            "780/780 [==============================] - 135s 173ms/step - loss: 0.6682 - accuracy: 0.6002 - val_loss: 0.6633 - val_accuracy: 0.6115\n",
            "Epoch 4/10\n",
            "780/780 [==============================] - 131s 168ms/step - loss: 0.6674 - accuracy: 0.6020 - val_loss: 0.6743 - val_accuracy: 0.6077\n",
            "Epoch 5/10\n",
            "780/780 [==============================] - 132s 169ms/step - loss: 0.6616 - accuracy: 0.6091 - val_loss: 0.6625 - val_accuracy: 0.6123\n",
            "Epoch 6/10\n",
            "780/780 [==============================] - 129s 166ms/step - loss: 0.6551 - accuracy: 0.6217 - val_loss: 0.6493 - val_accuracy: 0.6338\n",
            "Epoch 7/10\n",
            "780/780 [==============================] - 134s 171ms/step - loss: 0.6551 - accuracy: 0.6264 - val_loss: 0.6526 - val_accuracy: 0.6169\n",
            "Epoch 8/10\n",
            "780/780 [==============================] - 131s 168ms/step - loss: 0.5964 - accuracy: 0.6785 - val_loss: 0.2758 - val_accuracy: 0.9031\n",
            "Epoch 9/10\n",
            "780/780 [==============================] - 131s 168ms/step - loss: 0.2617 - accuracy: 0.9171 - val_loss: 0.2130 - val_accuracy: 0.9277\n",
            "Epoch 10/10\n",
            "780/780 [==============================] - 130s 167ms/step - loss: 0.2154 - accuracy: 0.9299 - val_loss: 0.2085 - val_accuracy: 0.9304\n"
          ]
        },
        {
          "output_type": "execute_result",
          "data": {
            "text/plain": [
              "<keras.callbacks.History at 0x7f6eb80935e0>"
            ]
          },
          "metadata": {},
          "execution_count": 145
        }
      ],
      "source": [
        "model1.fit(train_image_gen,\n",
        "          epochs=10,\n",
        "          steps_per_epoch=len(train_image_gen),  # herbir epoch ta train_image_gen ne kadar çalışsın\n",
        "          validation_data=test_image_gen,\n",
        "          validation_steps=len(test_image_gen),\n",
        "          callbacks=[early_stop])"
      ]
    },
    {
      "cell_type": "code",
      "execution_count": 146,
      "metadata": {
        "id": "yUXSEkDLsl9X",
        "colab": {
          "base_uri": "https://localhost:8080/"
        },
        "outputId": "161dea17-96b8-4a8c-ebcc-e749f7ac6e77"
      },
      "outputs": [
        {
          "output_type": "execute_result",
          "data": {
            "text/plain": [
              "['loss', 'accuracy']"
            ]
          },
          "metadata": {},
          "execution_count": 146
        }
      ],
      "source": [
        "model1.metrics_names"
      ]
    },
    {
      "cell_type": "code",
      "execution_count": 147,
      "metadata": {
        "id": "AIykzWBQsl9X",
        "colab": {
          "base_uri": "https://localhost:8080/",
          "height": 206
        },
        "outputId": "3f13b1bb-0eee-484a-93f8-eeebca34ebf6"
      },
      "outputs": [
        {
          "output_type": "execute_result",
          "data": {
            "text/plain": [
              "   loss  accuracy  val_loss  val_accuracy\n",
              "0 1.208     0.557     0.677         0.592\n",
              "1 0.678     0.582     0.723         0.556\n",
              "2 0.668     0.600     0.663         0.612\n",
              "3 0.667     0.602     0.674         0.608\n",
              "4 0.662     0.609     0.663         0.612"
            ],
            "text/html": [
              "\n",
              "  <div id=\"df-d8170ab0-b424-4e66-968e-be7d78646154\">\n",
              "    <div class=\"colab-df-container\">\n",
              "      <div>\n",
              "<style scoped>\n",
              "    .dataframe tbody tr th:only-of-type {\n",
              "        vertical-align: middle;\n",
              "    }\n",
              "\n",
              "    .dataframe tbody tr th {\n",
              "        vertical-align: top;\n",
              "    }\n",
              "\n",
              "    .dataframe thead th {\n",
              "        text-align: right;\n",
              "    }\n",
              "</style>\n",
              "<table border=\"1\" class=\"dataframe\">\n",
              "  <thead>\n",
              "    <tr style=\"text-align: right;\">\n",
              "      <th></th>\n",
              "      <th>loss</th>\n",
              "      <th>accuracy</th>\n",
              "      <th>val_loss</th>\n",
              "      <th>val_accuracy</th>\n",
              "    </tr>\n",
              "  </thead>\n",
              "  <tbody>\n",
              "    <tr>\n",
              "      <th>0</th>\n",
              "      <td>1.208</td>\n",
              "      <td>0.557</td>\n",
              "      <td>0.677</td>\n",
              "      <td>0.592</td>\n",
              "    </tr>\n",
              "    <tr>\n",
              "      <th>1</th>\n",
              "      <td>0.678</td>\n",
              "      <td>0.582</td>\n",
              "      <td>0.723</td>\n",
              "      <td>0.556</td>\n",
              "    </tr>\n",
              "    <tr>\n",
              "      <th>2</th>\n",
              "      <td>0.668</td>\n",
              "      <td>0.600</td>\n",
              "      <td>0.663</td>\n",
              "      <td>0.612</td>\n",
              "    </tr>\n",
              "    <tr>\n",
              "      <th>3</th>\n",
              "      <td>0.667</td>\n",
              "      <td>0.602</td>\n",
              "      <td>0.674</td>\n",
              "      <td>0.608</td>\n",
              "    </tr>\n",
              "    <tr>\n",
              "      <th>4</th>\n",
              "      <td>0.662</td>\n",
              "      <td>0.609</td>\n",
              "      <td>0.663</td>\n",
              "      <td>0.612</td>\n",
              "    </tr>\n",
              "  </tbody>\n",
              "</table>\n",
              "</div>\n",
              "      <button class=\"colab-df-convert\" onclick=\"convertToInteractive('df-d8170ab0-b424-4e66-968e-be7d78646154')\"\n",
              "              title=\"Convert this dataframe to an interactive table.\"\n",
              "              style=\"display:none;\">\n",
              "        \n",
              "  <svg xmlns=\"http://www.w3.org/2000/svg\" height=\"24px\"viewBox=\"0 0 24 24\"\n",
              "       width=\"24px\">\n",
              "    <path d=\"M0 0h24v24H0V0z\" fill=\"none\"/>\n",
              "    <path d=\"M18.56 5.44l.94 2.06.94-2.06 2.06-.94-2.06-.94-.94-2.06-.94 2.06-2.06.94zm-11 1L8.5 8.5l.94-2.06 2.06-.94-2.06-.94L8.5 2.5l-.94 2.06-2.06.94zm10 10l.94 2.06.94-2.06 2.06-.94-2.06-.94-.94-2.06-.94 2.06-2.06.94z\"/><path d=\"M17.41 7.96l-1.37-1.37c-.4-.4-.92-.59-1.43-.59-.52 0-1.04.2-1.43.59L10.3 9.45l-7.72 7.72c-.78.78-.78 2.05 0 2.83L4 21.41c.39.39.9.59 1.41.59.51 0 1.02-.2 1.41-.59l7.78-7.78 2.81-2.81c.8-.78.8-2.07 0-2.86zM5.41 20L4 18.59l7.72-7.72 1.47 1.35L5.41 20z\"/>\n",
              "  </svg>\n",
              "      </button>\n",
              "      \n",
              "  <style>\n",
              "    .colab-df-container {\n",
              "      display:flex;\n",
              "      flex-wrap:wrap;\n",
              "      gap: 12px;\n",
              "    }\n",
              "\n",
              "    .colab-df-convert {\n",
              "      background-color: #E8F0FE;\n",
              "      border: none;\n",
              "      border-radius: 50%;\n",
              "      cursor: pointer;\n",
              "      display: none;\n",
              "      fill: #1967D2;\n",
              "      height: 32px;\n",
              "      padding: 0 0 0 0;\n",
              "      width: 32px;\n",
              "    }\n",
              "\n",
              "    .colab-df-convert:hover {\n",
              "      background-color: #E2EBFA;\n",
              "      box-shadow: 0px 1px 2px rgba(60, 64, 67, 0.3), 0px 1px 3px 1px rgba(60, 64, 67, 0.15);\n",
              "      fill: #174EA6;\n",
              "    }\n",
              "\n",
              "    [theme=dark] .colab-df-convert {\n",
              "      background-color: #3B4455;\n",
              "      fill: #D2E3FC;\n",
              "    }\n",
              "\n",
              "    [theme=dark] .colab-df-convert:hover {\n",
              "      background-color: #434B5C;\n",
              "      box-shadow: 0px 1px 3px 1px rgba(0, 0, 0, 0.15);\n",
              "      filter: drop-shadow(0px 1px 2px rgba(0, 0, 0, 0.3));\n",
              "      fill: #FFFFFF;\n",
              "    }\n",
              "  </style>\n",
              "\n",
              "      <script>\n",
              "        const buttonEl =\n",
              "          document.querySelector('#df-d8170ab0-b424-4e66-968e-be7d78646154 button.colab-df-convert');\n",
              "        buttonEl.style.display =\n",
              "          google.colab.kernel.accessAllowed ? 'block' : 'none';\n",
              "\n",
              "        async function convertToInteractive(key) {\n",
              "          const element = document.querySelector('#df-d8170ab0-b424-4e66-968e-be7d78646154');\n",
              "          const dataTable =\n",
              "            await google.colab.kernel.invokeFunction('convertToInteractive',\n",
              "                                                     [key], {});\n",
              "          if (!dataTable) return;\n",
              "\n",
              "          const docLinkHtml = 'Like what you see? Visit the ' +\n",
              "            '<a target=\"_blank\" href=https://colab.research.google.com/notebooks/data_table.ipynb>data table notebook</a>'\n",
              "            + ' to learn more about interactive tables.';\n",
              "          element.innerHTML = '';\n",
              "          dataTable['output_type'] = 'display_data';\n",
              "          await google.colab.output.renderOutput(dataTable, element);\n",
              "          const docLink = document.createElement('div');\n",
              "          docLink.innerHTML = docLinkHtml;\n",
              "          element.appendChild(docLink);\n",
              "        }\n",
              "      </script>\n",
              "    </div>\n",
              "  </div>\n",
              "  "
            ]
          },
          "metadata": {},
          "execution_count": 147
        }
      ],
      "source": [
        "summary = pd.DataFrame(model1.history.history)\n",
        "summary.head()"
      ]
    },
    {
      "cell_type": "code",
      "execution_count": 148,
      "metadata": {
        "id": "Dcy3L5Whsl9X",
        "colab": {
          "base_uri": "https://localhost:8080/",
          "height": 374
        },
        "outputId": "800d1d43-c94a-49cb-9ec7-37495eed60f3"
      },
      "outputs": [
        {
          "output_type": "display_data",
          "data": {
            "text/plain": [
              "<Figure size 720x432 with 1 Axes>"
            ],
            "image/png": "[encoded data removed]"
          },
          "metadata": {}
        }
      ],
      "source": [
        "summary[[\"loss\", \"val_loss\"]].plot();"
      ]
    },
    {
      "cell_type": "code",
      "execution_count": 149,
      "metadata": {
        "id": "azs1F4o7sl9X",
        "colab": {
          "base_uri": "https://localhost:8080/",
          "height": 374
        },
        "outputId": "be1e1187-fa1c-45df-b5c2-03248be6f5cd"
      },
      "outputs": [
        {
          "output_type": "display_data",
          "data": {
            "text/plain": [
              "<Figure size 720x432 with 1 Axes>"
            ],
            "image/png": "[encoded data removed]"
          },
          "metadata": {}
        }
      ],
      "source": [
        "summary[[\"accuracy\", \"val_accuracy\"]].plot();"
      ]
    },
    {
      "cell_type": "markdown",
      "metadata": {
        "id": "16_yfUk5sl9Y"
      },
      "source": [
        "# Evaluation on Test Data"
      ]
    },
    {
      "cell_type": "code",
      "execution_count": 150,
      "metadata": {
        "id": "Xz95GVTDsl9Y"
      },
      "outputs": [],
      "source": [
        "from sklearn.metrics import classification_report, confusion_matrix"
      ]
    },
    {
      "cell_type": "markdown",
      "source": [],
      "metadata": {
        "id": "OOuvIKwOduKa"
      }
    },
    {
      "cell_type": "code",
      "execution_count": 151,
      "metadata": {
        "id": "mSBs8sNAsl9Y",
        "colab": {
          "base_uri": "https://localhost:8080/"
        },
        "outputId": "33837dd2-58e5-4901-e825-3a09442fc37c"
      },
      "outputs": [
        {
          "output_type": "stream",
          "name": "stdout",
          "text": [
            "82/82 [==============================] - 12s 145ms/step - loss: 0.2097 - accuracy: 0.9319\n",
            "Test loss: 0.20971572399139404\n",
            "Test accuracy: 0.9319230914115906\n"
          ]
        }
      ],
      "source": [
        "score = model1.evaluate(test_image_gen)\n",
        "print('Test loss:', score[0])\n",
        "print('Test accuracy:', score[1])"
      ]
    },
    {
      "cell_type": "code",
      "execution_count": 152,
      "metadata": {
        "id": "ZtAfDORssl9Y",
        "colab": {
          "base_uri": "https://localhost:8080/"
        },
        "outputId": "dcdecbc6-72d1-4263-d54f-f814062694e8"
      },
      "outputs": [
        {
          "output_type": "stream",
          "name": "stdout",
          "text": [
            "82/82 [==============================] - 12s 142ms/step\n"
          ]
        }
      ],
      "source": [
        "pred_prob = model1.predict(test_image_gen)"
      ]
    },
    {
      "cell_type": "code",
      "execution_count": 153,
      "metadata": {
        "id": "5PfBiFPlsl9Y",
        "colab": {
          "base_uri": "https://localhost:8080/"
        },
        "outputId": "0ba9bcbd-d79c-40e0-d4f9-3abe4026a4af"
      },
      "outputs": [
        {
          "output_type": "execute_result",
          "data": {
            "text/plain": [
              "array([[0.00849999],\n",
              "       [0.00489447],\n",
              "       [0.00219378],\n",
              "       ...,\n",
              "       [0.9643404 ],\n",
              "       [0.8461741 ],\n",
              "       [0.9674969 ]], dtype=float32)"
            ]
          },
          "metadata": {},
          "execution_count": 153
        }
      ],
      "source": [
        "pred_prob"
      ]
    },
    {
      "cell_type": "code",
      "execution_count": 154,
      "metadata": {
        "id": "qwF2D32fsl9Z"
      },
      "outputs": [],
      "source": [
        "y_pred = pred_prob > 0.5"
      ]
    },
    {
      "cell_type": "code",
      "execution_count": 155,
      "metadata": {
        "id": "EP0FHhTSsl9Z",
        "colab": {
          "base_uri": "https://localhost:8080/"
        },
        "outputId": "dd171098-7bb3-4561-905f-7f64691897bc"
      },
      "outputs": [
        {
          "output_type": "execute_result",
          "data": {
            "text/plain": [
              "array([[False],\n",
              "       [False],\n",
              "       [False],\n",
              "       ...,\n",
              "       [ True],\n",
              "       [ True],\n",
              "       [ True]])"
            ]
          },
          "metadata": {},
          "execution_count": 155
        }
      ],
      "source": [
        "y_pred"
      ]
    },
    {
      "cell_type": "code",
      "execution_count": 156,
      "metadata": {
        "id": "BfPUSYHxsl9a",
        "colab": {
          "base_uri": "https://localhost:8080/"
        },
        "outputId": "40a485e4-0b66-481a-a4b7-b426139797d5"
      },
      "outputs": [
        {
          "output_type": "execute_result",
          "data": {
            "text/plain": [
              "array([0, 0, 0, ..., 1, 1, 1], dtype=int32)"
            ]
          },
          "metadata": {},
          "execution_count": 156
        }
      ],
      "source": [
        "y_test = test_image_gen.classes\n",
        "y_test"
      ]
    },
    {
      "cell_type": "code",
      "execution_count": 157,
      "metadata": {
        "id": "DWwI79g1sl9a",
        "colab": {
          "base_uri": "https://localhost:8080/"
        },
        "outputId": "3d219e31-2676-445c-9225-704718f8820c"
      },
      "outputs": [
        {
          "output_type": "stream",
          "name": "stdout",
          "text": [
            "              precision    recall  f1-score   support\n",
            "\n",
            "           0       0.95      0.91      0.93      1300\n",
            "           1       0.91      0.96      0.93      1300\n",
            "\n",
            "    accuracy                           0.93      2600\n",
            "   macro avg       0.93      0.93      0.93      2600\n",
            "weighted avg       0.93      0.93      0.93      2600\n",
            "\n"
          ]
        }
      ],
      "source": [
        "print(classification_report(y_test, y_pred))"
      ]
    },
    {
      "cell_type": "code",
      "execution_count": 158,
      "metadata": {
        "id": "KlUFu_UHsl9b",
        "scrolled": true,
        "colab": {
          "base_uri": "https://localhost:8080/"
        },
        "outputId": "e7a58d1d-b1c0-4f6b-8a3f-412a771bf974"
      },
      "outputs": [
        {
          "output_type": "execute_result",
          "data": {
            "text/plain": [
              "array([[1180,  120],\n",
              "       [  58, 1242]])"
            ]
          },
          "metadata": {},
          "execution_count": 158
        }
      ],
      "source": [
        "confusion_matrix(y_test, y_pred)"
      ]
    },
    {
      "cell_type": "markdown",
      "metadata": {
        "id": "lPIenRrysl9b"
      },
      "source": [
        "# Modelling-2"
      ]
    },
    {
      "cell_type": "code",
      "execution_count": 159,
      "metadata": {
        "id": "6Dnzknlxsl9b"
      },
      "outputs": [],
      "source": [
        "model2 = Sequential()\n",
        "\n",
        "model2.add(Conv2D(filters=64, kernel_size=(3,3),input_shape=image_shape, padding='same', activation='relu',))\n",
        "model2.add(MaxPooling2D(pool_size=(2, 2)))\n",
        "\n",
        "model2.add(Conv2D(filters=128, kernel_size=(3,3), padding='same', activation='relu'))\n",
        "model2.add(Conv2D(filters=128, kernel_size=(3,3), padding='same', activation='relu'))\n",
        "model2.add(MaxPooling2D(pool_size=(2, 2)))\n",
        "\n",
        "model2.add(Conv2D(filters=256, kernel_size=(3,3), padding='same', activation='relu'))\n",
        "model2.add(Conv2D(filters=256, kernel_size=(3,3), padding='same', activation='relu'))\n",
        "model2.add(Conv2D(filters=256, kernel_size=(3,3), padding='same', activation='relu'))\n",
        "model2.add(MaxPooling2D(pool_size=(2, 2)))\n",
        "\n",
        "model2.add(Conv2D(filters=128, kernel_size=(3,3), padding='same', activation='relu'))\n",
        "model2.add(MaxPooling2D(pool_size=(2, 2)))\n",
        "\n",
        "model2.add(Conv2D(filters=64, kernel_size=(3,3), padding='same', activation='relu'))\n",
        "model2.add(MaxPooling2D(pool_size=(2, 2)))\n",
        "\n",
        "\n",
        "model2.add(Flatten())\n",
        "\n",
        "\n",
        "model2.add(Dense(128))\n",
        "model2.add(Activation('relu'))\n",
        "model2.add(Dropout(0.5))\n",
        "\n",
        "model2.add(Dense(1))\n",
        "model2.add(Activation('sigmoid'))\n",
        "\n",
        "model2.compile(loss='binary_crossentropy',\n",
        "              optimizer='adam',\n",
        "              metrics=['accuracy'])"
      ]
    },
    {
      "cell_type": "code",
      "execution_count": 160,
      "metadata": {
        "id": "waeAEJGSsl9c",
        "colab": {
          "base_uri": "https://localhost:8080/"
        },
        "outputId": "5aaca3d5-9980-4c8b-ae93-fea958583826"
      },
      "outputs": [
        {
          "output_type": "stream",
          "name": "stdout",
          "text": [
            "Model: \"sequential_1\"\n",
            "_________________________________________________________________\n",
            " Layer (type)                Output Shape              Param #   \n",
            "=================================================================\n",
            " conv2d_3 (Conv2D)           (None, 130, 130, 64)      1792      \n",
            "                                                                 \n",
            " max_pooling2d_3 (MaxPooling  (None, 65, 65, 64)       0         \n",
            " 2D)                                                             \n",
            "                                                                 \n",
            " conv2d_4 (Conv2D)           (None, 65, 65, 128)       73856     \n",
            "                                                                 \n",
            " conv2d_5 (Conv2D)           (None, 65, 65, 128)       147584    \n",
            "                                                                 \n",
            " max_pooling2d_4 (MaxPooling  (None, 32, 32, 128)      0         \n",
            " 2D)                                                             \n",
            "                                                                 \n",
            " conv2d_6 (Conv2D)           (None, 32, 32, 256)       295168    \n",
            "                                                                 \n",
            " conv2d_7 (Conv2D)           (None, 32, 32, 256)       590080    \n",
            "                                                                 \n",
            " conv2d_8 (Conv2D)           (None, 32, 32, 256)       590080    \n",
            "                                                                 \n",
            " max_pooling2d_5 (MaxPooling  (None, 16, 16, 256)      0         \n",
            " 2D)                                                             \n",
            "                                                                 \n",
            " conv2d_9 (Conv2D)           (None, 16, 16, 128)       295040    \n",
            "                                                                 \n",
            " max_pooling2d_6 (MaxPooling  (None, 8, 8, 128)        0         \n",
            " 2D)                                                             \n",
            "                                                                 \n",
            " conv2d_10 (Conv2D)          (None, 8, 8, 64)          73792     \n",
            "                                                                 \n",
            " max_pooling2d_7 (MaxPooling  (None, 4, 4, 64)         0         \n",
            " 2D)                                                             \n",
            "                                                                 \n",
            " flatten_1 (Flatten)         (None, 1024)              0         \n",
            "                                                                 \n",
            " dense_2 (Dense)             (None, 128)               131200    \n",
            "                                                                 \n",
            " activation_2 (Activation)   (None, 128)               0         \n",
            "                                                                 \n",
            " dropout_1 (Dropout)         (None, 128)               0         \n",
            "                                                                 \n",
            " dense_3 (Dense)             (None, 1)                 129       \n",
            "                                                                 \n",
            " activation_3 (Activation)   (None, 1)                 0         \n",
            "                                                                 \n",
            "=================================================================\n",
            "Total params: 2,198,721\n",
            "Trainable params: 2,198,721\n",
            "Non-trainable params: 0\n",
            "_________________________________________________________________\n"
          ]
        }
      ],
      "source": [
        "model2.summary()"
      ]
    },
    {
      "cell_type": "code",
      "execution_count": 161,
      "metadata": {
        "id": "tLSLjgiPsl9c"
      },
      "outputs": [],
      "source": [
        "early_stop = EarlyStopping(monitor='val_loss', patience=3, restore_best_weights = True)"
      ]
    },
    {
      "cell_type": "code",
      "execution_count": 162,
      "metadata": {
        "id": "mVbSg-qLsl9c",
        "scrolled": true,
        "colab": {
          "base_uri": "https://localhost:8080/"
        },
        "outputId": "6f01aa65-7c3f-4ad1-d2d6-16ba6b425d09"
      },
      "outputs": [
        {
          "output_type": "stream",
          "name": "stdout",
          "text": [
            "Epoch 1/8\n",
            "780/780 [==============================] - 159s 199ms/step - loss: 0.7338 - accuracy: 0.5362 - val_loss: 0.6854 - val_accuracy: 0.5769\n",
            "Epoch 2/8\n",
            "780/780 [==============================] - 148s 190ms/step - loss: 0.6881 - accuracy: 0.5429 - val_loss: 0.6710 - val_accuracy: 0.5950\n",
            "Epoch 3/8\n",
            "780/780 [==============================] - 148s 190ms/step - loss: 0.5059 - accuracy: 0.7234 - val_loss: 0.2106 - val_accuracy: 0.9435\n",
            "Epoch 4/8\n",
            "780/780 [==============================] - 149s 190ms/step - loss: 0.1883 - accuracy: 0.9445 - val_loss: 0.1715 - val_accuracy: 0.9427\n",
            "Epoch 5/8\n",
            "780/780 [==============================] - 146s 187ms/step - loss: 0.1638 - accuracy: 0.9514 - val_loss: 0.1611 - val_accuracy: 0.9492\n",
            "Epoch 6/8\n",
            "780/780 [==============================] - 146s 187ms/step - loss: 0.1592 - accuracy: 0.9502 - val_loss: 0.1641 - val_accuracy: 0.9450\n",
            "Epoch 7/8\n",
            "780/780 [==============================] - 147s 188ms/step - loss: 0.1560 - accuracy: 0.9532 - val_loss: 0.1498 - val_accuracy: 0.9508\n",
            "Epoch 8/8\n",
            "780/780 [==============================] - 146s 188ms/step - loss: 0.1515 - accuracy: 0.9526 - val_loss: 0.1527 - val_accuracy: 0.9508\n"
          ]
        },
        {
          "output_type": "execute_result",
          "data": {
            "text/plain": [
              "<keras.callbacks.History at 0x7f6eb64678e0>"
            ]
          },
          "metadata": {},
          "execution_count": 162
        }
      ],
      "source": [
        "model2.fit(train_image_gen,\n",
        "          epochs=8,\n",
        "          steps_per_epoch=len(train_image_gen),\n",
        "          validation_data=test_image_gen,\n",
        "          validation_steps=len(test_image_gen),\n",
        "          callbacks=[early_stop])"
      ]
    },
    {
      "cell_type": "code",
      "execution_count": 163,
      "metadata": {
        "id": "CiIRPi0qsl9c",
        "colab": {
          "base_uri": "https://localhost:8080/"
        },
        "outputId": "304f0bd4-2292-4b71-e1cb-0832ed80a003"
      },
      "outputs": [
        {
          "output_type": "execute_result",
          "data": {
            "text/plain": [
              "['loss', 'accuracy']"
            ]
          },
          "metadata": {},
          "execution_count": 163
        }
      ],
      "source": [
        "model2.metrics_names"
      ]
    },
    {
      "cell_type": "code",
      "execution_count": 164,
      "metadata": {
        "id": "28IfaCRpsl9d",
        "colab": {
          "base_uri": "https://localhost:8080/",
          "height": 206
        },
        "outputId": "9bb6292a-7a9c-4519-e024-d2c2286344b2"
      },
      "outputs": [
        {
          "output_type": "execute_result",
          "data": {
            "text/plain": [
              "   loss  accuracy  val_loss  val_accuracy\n",
              "0 0.734     0.536     0.685         0.577\n",
              "1 0.688     0.543     0.671         0.595\n",
              "2 0.506     0.723     0.211         0.943\n",
              "3 0.188     0.945     0.172         0.943\n",
              "4 0.164     0.951     0.161         0.949"
            ],
            "text/html": [
              "\n",
              "  <div id=\"df-cbca5e66-df62-4882-a6c8-253a8d474c3c\">\n",
              "    <div class=\"colab-df-container\">\n",
              "      <div>\n",
              "<style scoped>\n",
              "    .dataframe tbody tr th:only-of-type {\n",
              "        vertical-align: middle;\n",
              "    }\n",
              "\n",
              "    .dataframe tbody tr th {\n",
              "        vertical-align: top;\n",
              "    }\n",
              "\n",
              "    .dataframe thead th {\n",
              "        text-align: right;\n",
              "    }\n",
              "</style>\n",
              "<table border=\"1\" class=\"dataframe\">\n",
              "  <thead>\n",
              "    <tr style=\"text-align: right;\">\n",
              "      <th></th>\n",
              "      <th>loss</th>\n",
              "      <th>accuracy</th>\n",
              "      <th>val_loss</th>\n",
              "      <th>val_accuracy</th>\n",
              "    </tr>\n",
              "  </thead>\n",
              "  <tbody>\n",
              "    <tr>\n",
              "      <th>0</th>\n",
              "      <td>0.734</td>\n",
              "      <td>0.536</td>\n",
              "      <td>0.685</td>\n",
              "      <td>0.577</td>\n",
              "    </tr>\n",
              "    <tr>\n",
              "      <th>1</th>\n",
              "      <td>0.688</td>\n",
              "      <td>0.543</td>\n",
              "      <td>0.671</td>\n",
              "      <td>0.595</td>\n",
              "    </tr>\n",
              "    <tr>\n",
              "      <th>2</th>\n",
              "      <td>0.506</td>\n",
              "      <td>0.723</td>\n",
              "      <td>0.211</td>\n",
              "      <td>0.943</td>\n",
              "    </tr>\n",
              "    <tr>\n",
              "      <th>3</th>\n",
              "      <td>0.188</td>\n",
              "      <td>0.945</td>\n",
              "      <td>0.172</td>\n",
              "      <td>0.943</td>\n",
              "    </tr>\n",
              "    <tr>\n",
              "      <th>4</th>\n",
              "      <td>0.164</td>\n",
              "      <td>0.951</td>\n",
              "      <td>0.161</td>\n",
              "      <td>0.949</td>\n",
              "    </tr>\n",
              "  </tbody>\n",
              "</table>\n",
              "</div>\n",
              "      <button class=\"colab-df-convert\" onclick=\"convertToInteractive('df-cbca5e66-df62-4882-a6c8-253a8d474c3c')\"\n",
              "              title=\"Convert this dataframe to an interactive table.\"\n",
              "              style=\"display:none;\">\n",
              "        \n",
              "  <svg xmlns=\"http://www.w3.org/2000/svg\" height=\"24px\"viewBox=\"0 0 24 24\"\n",
              "       width=\"24px\">\n",
              "    <path d=\"M0 0h24v24H0V0z\" fill=\"none\"/>\n",
              "    <path d=\"M18.56 5.44l.94 2.06.94-2.06 2.06-.94-2.06-.94-.94-2.06-.94 2.06-2.06.94zm-11 1L8.5 8.5l.94-2.06 2.06-.94-2.06-.94L8.5 2.5l-.94 2.06-2.06.94zm10 10l.94 2.06.94-2.06 2.06-.94-2.06-.94-.94-2.06-.94 2.06-2.06.94z\"/><path d=\"M17.41 7.96l-1.37-1.37c-.4-.4-.92-.59-1.43-.59-.52 0-1.04.2-1.43.59L10.3 9.45l-7.72 7.72c-.78.78-.78 2.05 0 2.83L4 21.41c.39.39.9.59 1.41.59.51 0 1.02-.2 1.41-.59l7.78-7.78 2.81-2.81c.8-.78.8-2.07 0-2.86zM5.41 20L4 18.59l7.72-7.72 1.47 1.35L5.41 20z\"/>\n",
              "  </svg>\n",
              "      </button>\n",
              "      \n",
              "  <style>\n",
              "    .colab-df-container {\n",
              "      display:flex;\n",
              "      flex-wrap:wrap;\n",
              "      gap: 12px;\n",
              "    }\n",
              "\n",
              "    .colab-df-convert {\n",
              "      background-color: #E8F0FE;\n",
              "      border: none;\n",
              "      border-radius: 50%;\n",
              "      cursor: pointer;\n",
              "      display: none;\n",
              "      fill: #1967D2;\n",
              "      height: 32px;\n",
              "      padding: 0 0 0 0;\n",
              "      width: 32px;\n",
              "    }\n",
              "\n",
              "    .colab-df-convert:hover {\n",
              "      background-color: #E2EBFA;\n",
              "      box-shadow: 0px 1px 2px rgba(60, 64, 67, 0.3), 0px 1px 3px 1px rgba(60, 64, 67, 0.15);\n",
              "      fill: #174EA6;\n",
              "    }\n",
              "\n",
              "    [theme=dark] .colab-df-convert {\n",
              "      background-color: #3B4455;\n",
              "      fill: #D2E3FC;\n",
              "    }\n",
              "\n",
              "    [theme=dark] .colab-df-convert:hover {\n",
              "      background-color: #434B5C;\n",
              "      box-shadow: 0px 1px 3px 1px rgba(0, 0, 0, 0.15);\n",
              "      filter: drop-shadow(0px 1px 2px rgba(0, 0, 0, 0.3));\n",
              "      fill: #FFFFFF;\n",
              "    }\n",
              "  </style>\n",
              "\n",
              "      <script>\n",
              "        const buttonEl =\n",
              "          document.querySelector('#df-cbca5e66-df62-4882-a6c8-253a8d474c3c button.colab-df-convert');\n",
              "        buttonEl.style.display =\n",
              "          google.colab.kernel.accessAllowed ? 'block' : 'none';\n",
              "\n",
              "        async function convertToInteractive(key) {\n",
              "          const element = document.querySelector('#df-cbca5e66-df62-4882-a6c8-253a8d474c3c');\n",
              "          const dataTable =\n",
              "            await google.colab.kernel.invokeFunction('convertToInteractive',\n",
              "                                                     [key], {});\n",
              "          if (!dataTable) return;\n",
              "\n",
              "          const docLinkHtml = 'Like what you see? Visit the ' +\n",
              "            '<a target=\"_blank\" href=https://colab.research.google.com/notebooks/data_table.ipynb>data table notebook</a>'\n",
              "            + ' to learn more about interactive tables.';\n",
              "          element.innerHTML = '';\n",
              "          dataTable['output_type'] = 'display_data';\n",
              "          await google.colab.output.renderOutput(dataTable, element);\n",
              "          const docLink = document.createElement('div');\n",
              "          docLink.innerHTML = docLinkHtml;\n",
              "          element.appendChild(docLink);\n",
              "        }\n",
              "      </script>\n",
              "    </div>\n",
              "  </div>\n",
              "  "
            ]
          },
          "metadata": {},
          "execution_count": 164
        }
      ],
      "source": [
        "summary = pd.DataFrame(model2.history.history)\n",
        "summary.head()"
      ]
    },
    {
      "cell_type": "code",
      "execution_count": 165,
      "metadata": {
        "id": "zyO6Cmv_sl9d",
        "colab": {
          "base_uri": "https://localhost:8080/",
          "height": 374
        },
        "outputId": "003c2bad-5be5-427e-87fa-5e58612b0ba7"
      },
      "outputs": [
        {
          "output_type": "display_data",
          "data": {
            "text/plain": [
              "<Figure size 720x432 with 1 Axes>"
            ],
            "image/png": "[encoded data removed]"
          },
          "metadata": {}
        }
      ],
      "source": [
        "summary[[\"loss\", \"val_loss\"]].plot();"
      ]
    },
    {
      "cell_type": "code",
      "execution_count": 166,
      "metadata": {
        "id": "_D-FnA7Ksl9d",
        "colab": {
          "base_uri": "https://localhost:8080/",
          "height": 374
        },
        "outputId": "b2c6da00-6b2b-4143-ffe6-691854443e76"
      },
      "outputs": [
        {
          "output_type": "display_data",
          "data": {
            "text/plain": [
              "<Figure size 720x432 with 1 Axes>"
            ],
            "image/png": "[encoded data removed]"
          },
          "metadata": {}
        }
      ],
      "source": [
        "summary[[\"accuracy\", \"val_accuracy\"]].plot();"
      ]
    },
    {
      "cell_type": "markdown",
      "metadata": {
        "id": "F2bTLAvQsl9d"
      },
      "source": [
        "# Evaluation on Test Data"
      ]
    },
    {
      "cell_type": "code",
      "execution_count": 167,
      "metadata": {
        "id": "rKRt861Wsl9e",
        "colab": {
          "base_uri": "https://localhost:8080/"
        },
        "outputId": "56e9c3e9-a09b-4b98-8f02-475fb761d2a3"
      },
      "outputs": [
        {
          "output_type": "stream",
          "name": "stdout",
          "text": [
            "82/82 [==============================] - 13s 152ms/step - loss: 0.1473 - accuracy: 0.9508\n",
            "Test loss: 0.14726482331752777\n",
            "Test accuracy: 0.9507692456245422\n"
          ]
        }
      ],
      "source": [
        "score = model2.evaluate(test_image_gen)\n",
        "print('Test loss:', score[0])\n",
        "print('Test accuracy:', score[1])"
      ]
    },
    {
      "cell_type": "code",
      "execution_count": 168,
      "metadata": {
        "id": "kP3oobifsl9e",
        "colab": {
          "base_uri": "https://localhost:8080/"
        },
        "outputId": "5b426350-f8cb-4c23-f02e-fe4f02552572"
      },
      "outputs": [
        {
          "output_type": "stream",
          "name": "stdout",
          "text": [
            "82/82 [==============================] - 13s 153ms/step\n"
          ]
        }
      ],
      "source": [
        "pred_prob = model2.predict(test_image_gen)"
      ]
    },
    {
      "cell_type": "code",
      "execution_count": 169,
      "metadata": {
        "id": "93Jub8WGsl9f"
      },
      "outputs": [],
      "source": [
        "y_pred = pred_prob > 0.5"
      ]
    },
    {
      "cell_type": "code",
      "execution_count": 170,
      "metadata": {
        "id": "sTWX-UTMsl9f",
        "colab": {
          "base_uri": "https://localhost:8080/"
        },
        "outputId": "c93c1929-3e48-4bc0-b0b2-4fc2697b89dc"
      },
      "outputs": [
        {
          "output_type": "stream",
          "name": "stdout",
          "text": [
            "              precision    recall  f1-score   support\n",
            "\n",
            "           0       0.96      0.94      0.95      1300\n",
            "           1       0.94      0.96      0.95      1300\n",
            "\n",
            "    accuracy                           0.95      2600\n",
            "   macro avg       0.95      0.95      0.95      2600\n",
            "weighted avg       0.95      0.95      0.95      2600\n",
            "\n"
          ]
        }
      ],
      "source": [
        "print(classification_report(y_test, y_pred))"
      ]
    },
    {
      "cell_type": "markdown",
      "source": [
        "                precision    recall  f1-score   support\n",
        "\n",
        "           0       0.96      0.93      0.95      1300\n",
        "           1       0.93      0.97      0.95      1300\n",
        "\n",
        "    accuracy                           0.95      2600\n",
        "   macro avg       0.95      0.95      0.95      2600\n",
        "weighted avg       0.95      0.95      0.95      2600"
      ],
      "metadata": {
        "id": "hcH0w1R-VONi"
      }
    },
    {
      "cell_type": "code",
      "execution_count": 171,
      "metadata": {
        "id": "oUdsEhpJsl9g",
        "colab": {
          "base_uri": "https://localhost:8080/"
        },
        "outputId": "d075745a-0cdb-438e-94af-2453f2c139c6"
      },
      "outputs": [
        {
          "output_type": "execute_result",
          "data": {
            "text/plain": [
              "array([[1226,   74],\n",
              "       [  54, 1246]])"
            ]
          },
          "metadata": {},
          "execution_count": 171
        }
      ],
      "source": [
        "confusion_matrix(y_test, y_pred)"
      ]
    },
    {
      "cell_type": "code",
      "execution_count": 172,
      "metadata": {
        "id": "WR3JOvQhsl9g"
      },
      "outputs": [],
      "source": [
        "model1.save('malaria_model.h5')"
      ]
    },
    {
      "cell_type": "code",
      "source": [
        "model2.save('malaria_model2.h5')"
      ],
      "metadata": {
        "id": "MFhvjK-0rU-z"
      },
      "execution_count": 173,
      "outputs": []
    },
    {
      "cell_type": "markdown",
      "metadata": {
        "id": "k17LqDfKsl9g"
      },
      "source": [
        "# Prediction"
      ]
    },
    {
      "cell_type": "code",
      "execution_count": 190,
      "metadata": {
        "id": "HMDO0Dgv194o"
      },
      "outputs": [],
      "source": [
        "from tensorflow.keras.models import load_model\n",
        "from tensorflow.keras.preprocessing import image"
      ]
    },
    {
      "cell_type": "code",
      "execution_count": 191,
      "metadata": {
        "id": "p4_7g3rEDiJ7"
      },
      "outputs": [],
      "source": [
        "model=load_model('malaria_model2.h5')"
      ]
    },
    {
      "cell_type": "code",
      "execution_count": 192,
      "metadata": {
        "id": "PLkgTS3cGHTv",
        "colab": {
          "base_uri": "https://localhost:8080/",
          "height": 35
        },
        "outputId": "37ee1439-99d5-4a73-9a52-01814f682a63"
      },
      "outputs": [
        {
          "output_type": "execute_result",
          "data": {
            "text/plain": [
              "'uninfected'"
            ],
            "application/vnd.google.colaboratory.intrinsic+json": {
              "type": "string"
            }
          },
          "metadata": {},
          "execution_count": 192
        }
      ],
      "source": [
        "target_class=random.choice(class_names)\n",
        "target_class"
      ]
    },
    {
      "cell_type": "code",
      "execution_count": 193,
      "metadata": {
        "id": "8paR170UBXzt",
        "colab": {
          "base_uri": "https://localhost:8080/"
        },
        "outputId": "3ce6a196-6504-410e-f56a-bea35205b819"
      },
      "outputs": [
        {
          "output_type": "execute_result",
          "data": {
            "text/plain": [
              "['C158P119ThinF_IMG_20151115_181035_cell_92.png']"
            ]
          },
          "metadata": {},
          "execution_count": 193
        }
      ],
      "source": [
        "random_image = random.sample(os.listdir(test_path + target_class), 1)\n",
        "random_image"
      ]
    },
    {
      "cell_type": "code",
      "execution_count": 194,
      "metadata": {
        "id": "oeLS4RgHCCm6",
        "colab": {
          "base_uri": "https://localhost:8080/",
          "height": 35
        },
        "outputId": "3a13b355-6d3e-48f0-87a2-024ebbe5da52"
      },
      "outputs": [
        {
          "output_type": "execute_result",
          "data": {
            "text/plain": [
              "'cell_images/test/uninfected/C158P119ThinF_IMG_20151115_181035_cell_92.png'"
            ],
            "application/vnd.google.colaboratory.intrinsic+json": {
              "type": "string"
            }
          },
          "metadata": {},
          "execution_count": 194
        }
      ],
      "source": [
        "image_path = test_path + target_class + \"/\" + random_image[0]\n",
        "image_path"
      ]
    },
    {
      "cell_type": "code",
      "execution_count": 195,
      "metadata": {
        "id": "RCxuuqwOsl9h"
      },
      "outputs": [],
      "source": [
        "my_image = image.load_img(image_path, target_size=image_shape)"
      ]
    },
    {
      "cell_type": "code",
      "execution_count": 196,
      "metadata": {
        "id": "3GtFgC0gsl9h",
        "colab": {
          "base_uri": "https://localhost:8080/",
          "height": 147
        },
        "outputId": "7abc0c5a-1236-453b-af8b-8c65c921fea8"
      },
      "outputs": [
        {
          "output_type": "execute_result",
          "data": {
            "text/plain": [
              "<PIL.Image.Image image mode=RGB size=130x130 at 0x7F6E9E0CF5E0>"
            ],
            "image/png": "[encoded data removed]"
          },
          "metadata": {},
          "execution_count": 196
        }
      ],
      "source": [
        "my_image"
      ]
    },
    {
      "cell_type": "code",
      "execution_count": 197,
      "metadata": {
        "id": "-wfKWRy55R_1",
        "colab": {
          "base_uri": "https://localhost:8080/"
        },
        "outputId": "eb92b1bd-54d2-4650-a446-eeb00c8f0a06"
      },
      "outputs": [
        {
          "output_type": "execute_result",
          "data": {
            "text/plain": [
              "PIL.Image.Image"
            ]
          },
          "metadata": {},
          "execution_count": 197
        }
      ],
      "source": [
        "type(my_image)"
      ]
    },
    {
      "cell_type": "code",
      "execution_count": 198,
      "metadata": {
        "id": "Q9J8ngv-TVIV"
      },
      "outputs": [],
      "source": [
        "#my_image = np.array(my_image)\n",
        "my_image = image.img_to_array(my_image)"
      ]
    },
    {
      "cell_type": "code",
      "execution_count": 199,
      "metadata": {
        "id": "IJfZ-ILKsl9i",
        "colab": {
          "base_uri": "https://localhost:8080/"
        },
        "outputId": "b912c97f-bfb4-4b10-e27e-a3b1119c05d9"
      },
      "outputs": [
        {
          "output_type": "execute_result",
          "data": {
            "text/plain": [
              "(130, 130, 3)"
            ]
          },
          "metadata": {},
          "execution_count": 199
        }
      ],
      "source": [
        "my_image.shape"
      ]
    },
    {
      "cell_type": "code",
      "execution_count": 200,
      "metadata": {
        "id": "n9-XbB8Rsl9i"
      },
      "outputs": [],
      "source": [
        "my_image = np.expand_dims(my_image, axis=0)"
      ]
    },
    {
      "cell_type": "code",
      "execution_count": 201,
      "metadata": {
        "id": "ZuV5DH_fsl9i",
        "colab": {
          "base_uri": "https://localhost:8080/"
        },
        "outputId": "794ac625-954d-4933-c6ab-123b569e92a9"
      },
      "outputs": [
        {
          "output_type": "execute_result",
          "data": {
            "text/plain": [
              "(1, 130, 130, 3)"
            ]
          },
          "metadata": {},
          "execution_count": 201
        }
      ],
      "source": [
        "my_image.shape"
      ]
    },
    {
      "cell_type": "code",
      "execution_count": 202,
      "metadata": {
        "id": "p5wQ4c6Zsl9i",
        "colab": {
          "base_uri": "https://localhost:8080/"
        },
        "outputId": "8d824041-5b28-4872-efc1-adab103d90da"
      },
      "outputs": [
        {
          "output_type": "stream",
          "name": "stdout",
          "text": [
            "1/1 [==============================] - 0s 460ms/step\n"
          ]
        },
        {
          "output_type": "execute_result",
          "data": {
            "text/plain": [
              "array([[0.9908977]], dtype=float32)"
            ]
          },
          "metadata": {},
          "execution_count": 202
        }
      ],
      "source": [
        "model.predict(my_image)"
      ]
    },
    {
      "cell_type": "code",
      "execution_count": 203,
      "metadata": {
        "id": "ETuvfYOksl9i",
        "colab": {
          "base_uri": "https://localhost:8080/"
        },
        "outputId": "89c02488-cf90-4af1-fe6d-3aa8e18a2471"
      },
      "outputs": [
        {
          "output_type": "execute_result",
          "data": {
            "text/plain": [
              "{'parasitized': 0, 'uninfected': 1}"
            ]
          },
          "metadata": {},
          "execution_count": 203
        }
      ],
      "source": [
        "train_image_gen.class_indices"
      ]
    },
    {
      "cell_type": "code",
      "execution_count": 204,
      "metadata": {
        "id": "v9okpvkVD_aM"
      },
      "outputs": [],
      "source": [
        "def pred_and_plot(model, img_size):\n",
        "  \"\"\"\n",
        "  Imports an image located at filename, makes a prediction on it with\n",
        "  a trained model and plots the image with the predicted class as the title.\n",
        "  \"\"\"\n",
        "  # Import the target image and preprocess it\n",
        "  target_class=random.choice(class_names)\n",
        "  random_image = random.sample(os.listdir(test_path + target_class), 1)\n",
        "  img_path = test_path + target_class + \"/\" + random_image[0]\n",
        "  img = image.load_img(img_path, target_size=img_size)\n",
        "  img = np.array(img)\n",
        "  \n",
        "  # Make a prediction\n",
        "  pred = model.predict(np.expand_dims(img, axis=0))\n",
        "  print(\"prediction_probability: \", pred.max())\n",
        "\n",
        "  # Get the predicted class\n",
        "  if len(pred[0]) > 1: # check for multi-class\n",
        "    pred_class = class_names[pred.argmax()] # if more than one output, take the max\n",
        "  else:\n",
        "    pred_class = class_names[int(tf.round(pred)[0][0])] # if only one output, round\n",
        "\n",
        "  # Plot the image and predicted class\n",
        "  plt.imshow(img)\n",
        "  plt.title(f\"Prediction: {pred_class}\")\n",
        "  plt.axis(False);"
      ]
    },
    {
      "cell_type": "code",
      "execution_count": 205,
      "metadata": {
        "id": "In7S6mq_HLvu",
        "colab": {
          "base_uri": "https://localhost:8080/",
          "height": 445
        },
        "outputId": "e2dba453-38bf-43a9-d932-6212c0401d6d"
      },
      "outputs": [
        {
          "output_type": "stream",
          "name": "stderr",
          "text": [
            "WARNING:tensorflow:5 out of the last 86 calls to <function Model.make_predict_function.<locals>.predict_function at 0x7f6e9e1505e0> triggered tf.function retracing. Tracing is expensive and the excessive number of tracings could be due to (1) creating @tf.function repeatedly in a loop, (2) passing tensors with different shapes, (3) passing Python objects instead of tensors. For (1), please define your @tf.function outside of the loop. For (2), @tf.function has reduce_retracing=True option that can avoid unnecessary retracing. For (3), please refer to https://www.tensorflow.org/guide/function#controlling_retracing and https://www.tensorflow.org/api_docs/python/tf/function for  more details.\n"
          ]
        },
        {
          "output_type": "stream",
          "name": "stdout",
          "text": [
            "1/1 [==============================] - 0s 103ms/step\n",
            "prediction_probability:  0.9925235\n"
          ]
        },
        {
          "output_type": "display_data",
          "data": {
            "text/plain": [
              "<Figure size 720x432 with 1 Axes>"
            ],
            "image/png": "[encoded data removed]"
          },
          "metadata": {}
        }
      ],
      "source": [
        "pred_and_plot(model, (130, 130))"
      ]
    }
  ],
  "metadata": {
    "colab": {
      "provenance": []
    },
    "kernelspec": {
      "display_name": "Python 3",
      "language": "python",
      "name": "python3"
    },
    "language_info": {
      "codemirror_mode": {
        "name": "ipython",
        "version": 3
      },
      "file_extension": ".py",
      "mimetype": "text/x-python",
      "name": "python",
      "nbconvert_exporter": "python",
      "pygments_lexer": "ipython3",
      "version": "3.7.6"
    },
    "toc": {
      "base_numbering": 1,
      "nav_menu": {},
      "number_sections": false,
      "sideBar": true,
      "skip_h1_title": false,
      "title_cell": "Table of Contents",
      "title_sidebar": "Contents",
      "toc_cell": false,
      "toc_position": {},
      "toc_section_display": true,
      "toc_window_display": true
    },
    "gpuClass": "standard",
    "accelerator": "GPU"
  },
  "nbformat": 4,
  "nbformat_minor": 0
}